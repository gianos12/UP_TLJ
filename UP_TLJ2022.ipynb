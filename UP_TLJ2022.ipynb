{
  "nbformat": 4,
  "nbformat_minor": 0,
  "metadata": {
    "colab": {
      "provenance": [],
      "collapsed_sections": []
    },
    "kernelspec": {
      "name": "python3",
      "display_name": "Python 3"
    },
    "language_info": {
      "name": "python"
    }
  },
  "cells": [
    {
      "cell_type": "markdown",
      "source": [
        "# Analisis data tentang promosi toko ritel\n",
        "* Sebuah perusahaan Ritel dengan sebagai rantai toko di AS dan Kanada.\n",
        "* Anda telah diberikan kumpulan data nomor transaksi harian produk tertentu\n",
        "* Untuk jangka waktu 2 tahun mulai dari Feb 2018 sampai Jan 2020."
      ],
      "metadata": {
        "id": "eBQdezMoQnFW"
      }
    },
    {
      "cell_type": "markdown",
      "source": [
        "### Deskripsi Data\n",
        "| Nama Kolom | Deskripsi |\n",
        "|---|---|\n",
        "| SHPG_TRXN_LN_DT | Tanggal transaksi |\n",
        "| Hari Istimewa | Ini adalah hari / hari libur khusus tahun di mana kita dapat mengamati lalu lintas yang tinggi ke toko dan jumlah transaksi yang lebih banyak |\n",
        "|Clearance|Ini adalah hari-hari ketika penawaran clearance berjalan dan begitu banyak transaksi dapat dilihat |\n",
        "|Promo_name|Ini adalah berbagai promo yang dapat dijalankan kapan saja sepanjang tahun . Sebagian besar promo berupa paket. Untuk ex 7/28 berarti Anda dapat membeli 7 unit produk seharga 28 . Pelanggan harus membeli paket lengkap untuk mendapatkan penawaran. Non-Promo : Ini adalah hari-hari ketika produk dijual dengan harga reguler. B3G3 : Artinya beli 3 unit gratis 3 unit |\n",
        "|Merek | Perusahaan ini memiliki 2 merek berbeda A & B. Jadi jika kolom Brand ditandai dengan single A atau B berarti promo sudah berjalan untuk single brand. A_B berarti promo telah berjalan untuk kedua merek tersebut. Ada hari-hari dimana 2 paket berbeda dapat berjalan Untuk ex 10/35 - 28/7 : Ini berarti paket pertama 10/35 telah berjalan untuk merek A dan 28/7 telah berjalan untuk merek B. |\n",
        "|Transaksi |Ini menunjukkan jumlah transaksi yang telah terjadi untuk produk tersebut. |"
      ],
      "metadata": {
        "id": "0Te9TgjEQ15Q"
      }
    },
    {
      "cell_type": "markdown",
      "source": [
        "# **Yang harus diperhatikan dalam ujian ini! </br>**\n",
        "\n",
        "1. Pastikan email address sesuai yang ditentukan.\n",
        "2. Buka g. colab baru punyamu.\n",
        "3. Projek g. colab dikasih nama \" nama_kelas\".  **example Amaliyah gian_XII TKJ 2**\n",
        "4. Jangan lupa download dataset dan pindahkan ke g.drive punya kamu.\n",
        "5. **Jangan lupa JOBSHEET PRAKTIKUMNYA.**\n",
        "6. Waktu pengerjaan **1 jam**\n",
        "\n",
        "\n"
      ],
      "metadata": {
        "id": "6kZOG5C5R-Vm"
      }
    },
    {
      "cell_type": "code",
      "source": [
        "from google.colab import drive\n",
        "drive.mount('/content/drive',force_remount=True)"
      ],
      "metadata": {
        "id": "2KlWO5yOBdMI"
      },
      "execution_count": null,
      "outputs": []
    },
    {
      "cell_type": "code",
      "source": [
        "# Importing libraries diisi yaaaaaa dan ditambahi library ini \n",
        "\n",
        "import plotly.express as px\n",
        "import warnings\n",
        "warnings.filterwarnings('ignore')"
      ],
      "metadata": {
        "id": "5IDlI71WKPTn"
      },
      "execution_count": null,
      "outputs": []
    },
    {
      "cell_type": "code",
      "source": [
        "# Reading dataset caranya kaya gimana?"
      ],
      "metadata": {
        "id": "mHKsOaDEKh3P"
      },
      "execution_count": null,
      "outputs": []
    },
    {
      "cell_type": "markdown",
      "source": [
        "Mulai sel ini tinggal di copy pastekan ke dalam projek kamu. </br>\n",
        "\n",
        "===========Dont forget pray and good luck========="
      ],
      "metadata": {
        "id": "Um_AJIJWRVKh"
      }
    },
    {
      "cell_type": "code",
      "source": [
        "# Renaming date column and checking data types\n",
        "df.rename(columns={'SHPG_TRXN_LN_DT': 'Date'}, inplace=True)\n",
        "df.dtypes"
      ],
      "metadata": {
        "colab": {
          "base_uri": "https://localhost:8080/"
        },
        "id": "6NaOcRvgMWCy",
        "outputId": "41e35628-be22-4a32-ca67-15dce48549a7"
      },
      "execution_count": null,
      "outputs": [
        {
          "output_type": "execute_result",
          "data": {
            "text/plain": [
              "Date            datetime64[ns]\n",
              "Special day             object\n",
              "Clearance              float64\n",
              "promo_name              object\n",
              "Brands                  object\n",
              "Transactions             int64\n",
              "dtype: object"
            ]
          },
          "metadata": {},
          "execution_count": 12
        }
      ]
    },
    {
      "cell_type": "code",
      "source": [
        "# NA values count by columns\n",
        "df.isna().sum()"
      ],
      "metadata": {
        "colab": {
          "base_uri": "https://localhost:8080/"
        },
        "id": "K_ky4jceMa6W",
        "outputId": "619b4331-22d0-4294-b6ab-1bf1a22fd0b0"
      },
      "execution_count": null,
      "outputs": [
        {
          "output_type": "execute_result",
          "data": {
            "text/plain": [
              "Date              0\n",
              "Special day     666\n",
              "Clearance       614\n",
              "promo_name        0\n",
              "Brands          457\n",
              "Transactions      0\n",
              "dtype: int64"
            ]
          },
          "metadata": {},
          "execution_count": 13
        }
      ]
    },
    {
      "cell_type": "code",
      "source": [
        "# Unique values in categorical columns\n",
        "for col in ['Special day', 'Clearance', 'promo_name', 'Brands']:\n",
        "    print('\\n',col, df[col].unique(), sep='\\n')"
      ],
      "metadata": {
        "colab": {
          "base_uri": "https://localhost:8080/"
        },
        "id": "LkosIM_QMrgm",
        "outputId": "c02299f7-1373-401b-f3b6-66b545938693"
      },
      "execution_count": null,
      "outputs": [
        {
          "output_type": "stream",
          "name": "stdout",
          "text": [
            "\n",
            "\n",
            "Special day\n",
            "[nan 'Vday-1' 'Vday' 'Presidents day' 'St Patricks day' 'Easter'\n",
            " 'Mothers day -1' 'Mothers day' 'Memorial day' 'Labour day' 'Columbus day'\n",
            " 'Veterans day' 'thanks giving -1' 'Thanks giving' 'thanks giving + 1'\n",
            " 'Holiday' 'Christmas' 'New Year -1' 'New Year' 'Martin Luther day'\n",
            " 'Vday -1' 'Valentines' \"St.Patricks' day\" 'OUTLIER' 'Independence day'\n",
            " 'Outlier' 'Labour Day' 'Columbus Day' 'Thanks giving -1' 'Christmas -1'\n",
            " 'Martin Luther king day']\n",
            "\n",
            "\n",
            "Clearance\n",
            "[nan  1.]\n",
            "\n",
            "\n",
            "promo_name\n",
            "['Non_Promo' ' 7/$28' '10/$35' 'b3g3' '7/28 - 5/$35' '7/$25'\n",
            " '10/$35 - 7/$28' '$5 HH' '5/$28.50' '10/$30' 'Non_promo' '5/$35'\n",
            " '7/$28 - 10/35' '10/$35 - 9/$32' '7/$28' '5/$15' '4/$19.95' '9/$30'\n",
            " '5/$25']\n",
            "\n",
            "\n",
            "Brands\n",
            "[nan 'A_B' 'A' 'B']\n"
          ]
        }
      ]
    },
    {
      "cell_type": "code",
      "source": [
        "# Memperbarui perubahan yang diperlukan\n",
        "df['Special day'].fillna('No Special', inplace=True)\n",
        "df['Special day'] = df['Special day'].str.strip()\n",
        "\n",
        "df['Clearance'].fillna(0, inplace=True)\n",
        "df['Clearance'].replace({0: 'No', 1: 'Yes'}, inplace=True)\n",
        "\n",
        "df['promo_name'].replace({'Non_promo': 'Non_Promo'}, inplace=True)\n",
        "df['promo_name'] = df['promo_name'].str.replace('$', '', regex=False)\n",
        "df['promo_name'] = df['promo_name'].str.strip()\n",
        "\n",
        "df['Brands'].fillna('No Brands', inplace=True)\n",
        "df['Brands'] = df['Brands'].str.strip()\n",
        "\n",
        "df.head()"
      ],
      "metadata": {
        "colab": {
          "base_uri": "https://localhost:8080/",
          "height": 206
        },
        "id": "QMdEm_KyMxMB",
        "outputId": "916fc3b7-ed2a-42bc-c4bb-8a234d7c921c"
      },
      "execution_count": null,
      "outputs": [
        {
          "output_type": "execute_result",
          "data": {
            "text/plain": [
              "        Date Special day Clearance promo_name     Brands  Transactions\n",
              "0 2018-02-04  No Special        No  Non_Promo  No Brands         98030\n",
              "1 2018-02-05  No Special        No  Non_Promo  No Brands         79061\n",
              "2 2018-02-06  No Special        No  Non_Promo  No Brands         94638\n",
              "3 2018-02-07  No Special        No  Non_Promo  No Brands         77176\n",
              "4 2018-02-08  No Special        No  Non_Promo  No Brands        101246"
            ],
            "text/html": [
              "\n",
              "  <div id=\"df-82c5ee9c-7c30-401d-8691-930a61645645\">\n",
              "    <div class=\"colab-df-container\">\n",
              "      <div>\n",
              "<style scoped>\n",
              "    .dataframe tbody tr th:only-of-type {\n",
              "        vertical-align: middle;\n",
              "    }\n",
              "\n",
              "    .dataframe tbody tr th {\n",
              "        vertical-align: top;\n",
              "    }\n",
              "\n",
              "    .dataframe thead th {\n",
              "        text-align: right;\n",
              "    }\n",
              "</style>\n",
              "<table border=\"1\" class=\"dataframe\">\n",
              "  <thead>\n",
              "    <tr style=\"text-align: right;\">\n",
              "      <th></th>\n",
              "      <th>Date</th>\n",
              "      <th>Special day</th>\n",
              "      <th>Clearance</th>\n",
              "      <th>promo_name</th>\n",
              "      <th>Brands</th>\n",
              "      <th>Transactions</th>\n",
              "    </tr>\n",
              "  </thead>\n",
              "  <tbody>\n",
              "    <tr>\n",
              "      <th>0</th>\n",
              "      <td>2018-02-04</td>\n",
              "      <td>No Special</td>\n",
              "      <td>No</td>\n",
              "      <td>Non_Promo</td>\n",
              "      <td>No Brands</td>\n",
              "      <td>98030</td>\n",
              "    </tr>\n",
              "    <tr>\n",
              "      <th>1</th>\n",
              "      <td>2018-02-05</td>\n",
              "      <td>No Special</td>\n",
              "      <td>No</td>\n",
              "      <td>Non_Promo</td>\n",
              "      <td>No Brands</td>\n",
              "      <td>79061</td>\n",
              "    </tr>\n",
              "    <tr>\n",
              "      <th>2</th>\n",
              "      <td>2018-02-06</td>\n",
              "      <td>No Special</td>\n",
              "      <td>No</td>\n",
              "      <td>Non_Promo</td>\n",
              "      <td>No Brands</td>\n",
              "      <td>94638</td>\n",
              "    </tr>\n",
              "    <tr>\n",
              "      <th>3</th>\n",
              "      <td>2018-02-07</td>\n",
              "      <td>No Special</td>\n",
              "      <td>No</td>\n",
              "      <td>Non_Promo</td>\n",
              "      <td>No Brands</td>\n",
              "      <td>77176</td>\n",
              "    </tr>\n",
              "    <tr>\n",
              "      <th>4</th>\n",
              "      <td>2018-02-08</td>\n",
              "      <td>No Special</td>\n",
              "      <td>No</td>\n",
              "      <td>Non_Promo</td>\n",
              "      <td>No Brands</td>\n",
              "      <td>101246</td>\n",
              "    </tr>\n",
              "  </tbody>\n",
              "</table>\n",
              "</div>\n",
              "      <button class=\"colab-df-convert\" onclick=\"convertToInteractive('df-82c5ee9c-7c30-401d-8691-930a61645645')\"\n",
              "              title=\"Convert this dataframe to an interactive table.\"\n",
              "              style=\"display:none;\">\n",
              "        \n",
              "  <svg xmlns=\"http://www.w3.org/2000/svg\" height=\"24px\"viewBox=\"0 0 24 24\"\n",
              "       width=\"24px\">\n",
              "    <path d=\"M0 0h24v24H0V0z\" fill=\"none\"/>\n",
              "    <path d=\"M18.56 5.44l.94 2.06.94-2.06 2.06-.94-2.06-.94-.94-2.06-.94 2.06-2.06.94zm-11 1L8.5 8.5l.94-2.06 2.06-.94-2.06-.94L8.5 2.5l-.94 2.06-2.06.94zm10 10l.94 2.06.94-2.06 2.06-.94-2.06-.94-.94-2.06-.94 2.06-2.06.94z\"/><path d=\"M17.41 7.96l-1.37-1.37c-.4-.4-.92-.59-1.43-.59-.52 0-1.04.2-1.43.59L10.3 9.45l-7.72 7.72c-.78.78-.78 2.05 0 2.83L4 21.41c.39.39.9.59 1.41.59.51 0 1.02-.2 1.41-.59l7.78-7.78 2.81-2.81c.8-.78.8-2.07 0-2.86zM5.41 20L4 18.59l7.72-7.72 1.47 1.35L5.41 20z\"/>\n",
              "  </svg>\n",
              "      </button>\n",
              "      \n",
              "  <style>\n",
              "    .colab-df-container {\n",
              "      display:flex;\n",
              "      flex-wrap:wrap;\n",
              "      gap: 12px;\n",
              "    }\n",
              "\n",
              "    .colab-df-convert {\n",
              "      background-color: #E8F0FE;\n",
              "      border: none;\n",
              "      border-radius: 50%;\n",
              "      cursor: pointer;\n",
              "      display: none;\n",
              "      fill: #1967D2;\n",
              "      height: 32px;\n",
              "      padding: 0 0 0 0;\n",
              "      width: 32px;\n",
              "    }\n",
              "\n",
              "    .colab-df-convert:hover {\n",
              "      background-color: #E2EBFA;\n",
              "      box-shadow: 0px 1px 2px rgba(60, 64, 67, 0.3), 0px 1px 3px 1px rgba(60, 64, 67, 0.15);\n",
              "      fill: #174EA6;\n",
              "    }\n",
              "\n",
              "    [theme=dark] .colab-df-convert {\n",
              "      background-color: #3B4455;\n",
              "      fill: #D2E3FC;\n",
              "    }\n",
              "\n",
              "    [theme=dark] .colab-df-convert:hover {\n",
              "      background-color: #434B5C;\n",
              "      box-shadow: 0px 1px 3px 1px rgba(0, 0, 0, 0.15);\n",
              "      filter: drop-shadow(0px 1px 2px rgba(0, 0, 0, 0.3));\n",
              "      fill: #FFFFFF;\n",
              "    }\n",
              "  </style>\n",
              "\n",
              "      <script>\n",
              "        const buttonEl =\n",
              "          document.querySelector('#df-82c5ee9c-7c30-401d-8691-930a61645645 button.colab-df-convert');\n",
              "        buttonEl.style.display =\n",
              "          google.colab.kernel.accessAllowed ? 'block' : 'none';\n",
              "\n",
              "        async function convertToInteractive(key) {\n",
              "          const element = document.querySelector('#df-82c5ee9c-7c30-401d-8691-930a61645645');\n",
              "          const dataTable =\n",
              "            await google.colab.kernel.invokeFunction('convertToInteractive',\n",
              "                                                     [key], {});\n",
              "          if (!dataTable) return;\n",
              "\n",
              "          const docLinkHtml = 'Like what you see? Visit the ' +\n",
              "            '<a target=\"_blank\" href=https://colab.research.google.com/notebooks/data_table.ipynb>data table notebook</a>'\n",
              "            + ' to learn more about interactive tables.';\n",
              "          element.innerHTML = '';\n",
              "          dataTable['output_type'] = 'display_data';\n",
              "          await google.colab.output.renderOutput(dataTable, element);\n",
              "          const docLink = document.createElement('div');\n",
              "          docLink.innerHTML = docLinkHtml;\n",
              "          element.appendChild(docLink);\n",
              "        }\n",
              "      </script>\n",
              "    </div>\n",
              "  </div>\n",
              "  "
            ]
          },
          "metadata": {},
          "execution_count": 15
        }
      ]
    },
    {
      "cell_type": "code",
      "source": [
        "# Transaksi pada setiap tanggal\n",
        "fig = px.line(df, x=\"Date\", y=\"Transactions\", title='Transactions by date',\n",
        "              hover_data=['Special day', 'Clearance', 'promo_name', 'Brands'])\n",
        "fig.show()"
      ],
      "metadata": {
        "colab": {
          "base_uri": "https://localhost:8080/",
          "height": 542
        },
        "id": "xCpPuQy0NBKO",
        "outputId": "c67c32cb-7b74-4e2d-cb4e-4082e17a74df"
      },
      "execution_count": null,
      "outputs": [
        {
          "output_type": "display_data",
          "data": {
            "text/html": [
              "<html>\n",
              "<head><meta charset=\"utf-8\" /></head>\n",
              "<body>\n",
              "    <div>            <script src=\"https://cdnjs.cloudflare.com/ajax/libs/mathjax/2.7.5/MathJax.js?config=TeX-AMS-MML_SVG\"></script><script type=\"text/javascript\">if (window.MathJax) {MathJax.Hub.Config({SVG: {font: \"STIX-Web\"}});}</script>                <script type=\"text/javascript\">window.PlotlyConfig = {MathJaxConfig: 'local'};</script>\n",
              "        <script src=\"https://cdn.plot.ly/plotly-2.8.3.min.js\"></script>                <div id=\"180bc0f3-b7b0-4518-91c9-d353b74ce411\" class=\"plotly-graph-div\" style=\"height:525px; width:100%;\"></div>            <script type=\"text/javascript\">                                    window.PLOTLYENV=window.PLOTLYENV || {};                                    if (document.getElementById(\"180bc0f3-b7b0-4518-91c9-d353b74ce411\")) {                    Plotly.newPlot(                        \"180bc0f3-b7b0-4518-91c9-d353b74ce411\",                        [{\"customdata\":[[\"No Special\",\"No\",\"Non_Promo\",\"No Brands\"],[\"No Special\",\"No\",\"Non_Promo\",\"No Brands\"],[\"No Special\",\"No\",\"Non_Promo\",\"No Brands\"],[\"No Special\",\"No\",\"Non_Promo\",\"No Brands\"],[\"No Special\",\"No\",\"Non_Promo\",\"No Brands\"],[\"No Special\",\"No\",\"Non_Promo\",\"No Brands\"],[\"No Special\",\"No\",\"Non_Promo\",\"No Brands\"],[\"No Special\",\"No\",\"Non_Promo\",\"No Brands\"],[\"No Special\",\"No\",\"Non_Promo\",\"No Brands\"],[\"Vday-1\",\"No\",\"Non_Promo\",\"No Brands\"],[\"Vday\",\"No\",\"Non_Promo\",\"No Brands\"],[\"No Special\",\"No\",\"Non_Promo\",\"No Brands\"],[\"No Special\",\"No\",\"7/28\",\"A_B\"],[\"No Special\",\"No\",\"7/28\",\"A_B\"],[\"No Special\",\"No\",\"7/28\",\"A_B\"],[\"Presidents day\",\"No\",\"7/28\",\"A_B\"],[\"No Special\",\"No\",\"Non_Promo\",\"No Brands\"],[\"No Special\",\"No\",\"Non_Promo\",\"No Brands\"],[\"No Special\",\"No\",\"Non_Promo\",\"No Brands\"],[\"No Special\",\"No\",\"Non_Promo\",\"No Brands\"],[\"No Special\",\"No\",\"Non_Promo\",\"No Brands\"],[\"No Special\",\"No\",\"Non_Promo\",\"No Brands\"],[\"No Special\",\"No\",\"Non_Promo\",\"No Brands\"],[\"No Special\",\"No\",\"Non_Promo\",\"No Brands\"],[\"No Special\",\"No\",\"Non_Promo\",\"No Brands\"],[\"No Special\",\"No\",\"Non_Promo\",\"No Brands\"],[\"No Special\",\"No\",\"Non_Promo\",\"No Brands\"],[\"No Special\",\"No\",\"Non_Promo\",\"No Brands\"],[\"No Special\",\"No\",\"Non_Promo\",\"No Brands\"],[\"No Special\",\"No\",\"Non_Promo\",\"No Brands\"],[\"No Special\",\"No\",\"Non_Promo\",\"No Brands\"],[\"No Special\",\"No\",\"Non_Promo\",\"No Brands\"],[\"No Special\",\"No\",\"Non_Promo\",\"No Brands\"],[\"No Special\",\"No\",\"Non_Promo\",\"No Brands\"],[\"No Special\",\"No\",\"Non_Promo\",\"No Brands\"],[\"No Special\",\"No\",\"Non_Promo\",\"No Brands\"],[\"No Special\",\"No\",\"Non_Promo\",\"No Brands\"],[\"No Special\",\"No\",\"Non_Promo\",\"No Brands\"],[\"No Special\",\"No\",\"Non_Promo\",\"No Brands\"],[\"No Special\",\"No\",\"7/28\",\"A_B\"],[\"No Special\",\"No\",\"7/28\",\"A_B\"],[\"St Patricks day\",\"No\",\"7/28\",\"A_B\"],[\"No Special\",\"No\",\"7/28\",\"A_B\"],[\"No Special\",\"No\",\"7/28\",\"A_B\"],[\"No Special\",\"No\",\"Non_Promo\",\"No Brands\"],[\"No Special\",\"No\",\"Non_Promo\",\"No Brands\"],[\"No Special\",\"No\",\"Non_Promo\",\"No Brands\"],[\"No Special\",\"No\",\"Non_Promo\",\"No Brands\"],[\"No Special\",\"No\",\"10/35\",\"A_B\"],[\"No Special\",\"No\",\"Non_Promo\",\"No Brands\"],[\"No Special\",\"No\",\"Non_Promo\",\"No Brands\"],[\"No Special\",\"No\",\"b3g3\",\"A_B\"],[\"No Special\",\"No\",\"b3g3\",\"A_B\"],[\"No Special\",\"No\",\"b3g3\",\"A_B\"],[\"No Special\",\"No\",\"b3g3\",\"A_B\"],[\"No Special\",\"No\",\"b3g3\",\"A_B\"],[\"No Special\",\"No\",\"b3g3\",\"A_B\"],[\"No Special\",\"No\",\"b3g3\",\"A_B\"],[\"No Special\",\"No\",\"b3g3\",\"A_B\"],[\"No Special\",\"No\",\"b3g3\",\"A_B\"],[\"No Special\",\"No\",\"b3g3\",\"A_B\"],[\"No Special\",\"No\",\"b3g3\",\"A_B\"],[\"No Special\",\"No\",\"b3g3\",\"A_B\"],[\"Easter\",\"No\",\"Non_Promo\",\"No Brands\"],[\"No Special\",\"No\",\"Non_Promo\",\"No Brands\"],[\"No Special\",\"No\",\"Non_Promo\",\"No Brands\"],[\"No Special\",\"No\",\"Non_Promo\",\"No Brands\"],[\"No Special\",\"No\",\"Non_Promo\",\"No Brands\"],[\"No Special\",\"No\",\"Non_Promo\",\"No Brands\"],[\"No Special\",\"No\",\"Non_Promo\",\"No Brands\"],[\"No Special\",\"No\",\"Non_Promo\",\"No Brands\"],[\"No Special\",\"No\",\"Non_Promo\",\"No Brands\"],[\"No Special\",\"No\",\"Non_Promo\",\"No Brands\"],[\"No Special\",\"No\",\"Non_Promo\",\"No Brands\"],[\"No Special\",\"No\",\"Non_Promo\",\"No Brands\"],[\"No Special\",\"No\",\"Non_Promo\",\"No Brands\"],[\"No Special\",\"No\",\"Non_Promo\",\"No Brands\"],[\"No Special\",\"No\",\"Non_Promo\",\"No Brands\"],[\"No Special\",\"No\",\"Non_Promo\",\"No Brands\"],[\"No Special\",\"No\",\"Non_Promo\",\"No Brands\"],[\"No Special\",\"No\",\"Non_Promo\",\"No Brands\"],[\"No Special\",\"No\",\"Non_Promo\",\"No Brands\"],[\"No Special\",\"No\",\"Non_Promo\",\"No Brands\"],[\"No Special\",\"No\",\"Non_Promo\",\"No Brands\"],[\"No Special\",\"No\",\"Non_Promo\",\"No Brands\"],[\"No Special\",\"No\",\"Non_Promo\",\"No Brands\"],[\"No Special\",\"No\",\"Non_Promo\",\"No Brands\"],[\"No Special\",\"No\",\"Non_Promo\",\"No Brands\"],[\"No Special\",\"No\",\"Non_Promo\",\"No Brands\"],[\"No Special\",\"No\",\"Non_Promo\",\"No Brands\"],[\"No Special\",\"No\",\"Non_Promo\",\"No Brands\"],[\"No Special\",\"No\",\"Non_Promo\",\"No Brands\"],[\"No Special\",\"No\",\"Non_Promo\",\"No Brands\"],[\"No Special\",\"No\",\"Non_Promo\",\"No Brands\"],[\"No Special\",\"No\",\"Non_Promo\",\"No Brands\"],[\"No Special\",\"No\",\"Non_Promo\",\"No Brands\"],[\"No Special\",\"No\",\"Non_Promo\",\"No Brands\"],[\"Mothers day -1\",\"No\",\"b3g3\",\"A_B\"],[\"Mothers day\",\"No\",\"b3g3\",\"A_B\"],[\"No Special\",\"No\",\"b3g3\",\"A_B\"],[\"No Special\",\"No\",\"b3g3\",\"A_B\"],[\"No Special\",\"No\",\"Non_Promo\",\"No Brands\"],[\"No Special\",\"No\",\"Non_Promo\",\"No Brands\"],[\"No Special\",\"No\",\"Non_Promo\",\"No Brands\"],[\"No Special\",\"No\",\"Non_Promo\",\"No Brands\"],[\"No Special\",\"No\",\"Non_Promo\",\"No Brands\"],[\"No Special\",\"No\",\"Non_Promo\",\"No Brands\"],[\"No Special\",\"No\",\"Non_Promo\",\"No Brands\"],[\"No Special\",\"No\",\"7/28\",\"A_B\"],[\"No Special\",\"No\",\"7/28\",\"A_B\"],[\"No Special\",\"No\",\"7/28\",\"A_B\"],[\"No Special\",\"No\",\"7/28\",\"A_B\"],[\"No Special\",\"No\",\"7/28\",\"A_B\"],[\"Memorial day\",\"No\",\"7/28\",\"A_B\"],[\"No Special\",\"No\",\"Non_Promo\",\"No Brands\"],[\"No Special\",\"No\",\"Non_Promo\",\"No Brands\"],[\"No Special\",\"No\",\"Non_Promo\",\"No Brands\"],[\"No Special\",\"No\",\"Non_Promo\",\"No Brands\"],[\"No Special\",\"Yes\",\"Non_Promo\",\"No Brands\"],[\"No Special\",\"Yes\",\"Non_Promo\",\"No Brands\"],[\"No Special\",\"Yes\",\"Non_Promo\",\"No Brands\"],[\"No Special\",\"Yes\",\"Non_Promo\",\"No Brands\"],[\"No Special\",\"Yes\",\"Non_Promo\",\"No Brands\"],[\"No Special\",\"Yes\",\"Non_Promo\",\"No Brands\"],[\"No Special\",\"Yes\",\"Non_Promo\",\"No Brands\"],[\"No Special\",\"Yes\",\"Non_Promo\",\"No Brands\"],[\"No Special\",\"Yes\",\"Non_Promo\",\"No Brands\"],[\"No Special\",\"Yes\",\"Non_Promo\",\"No Brands\"],[\"No Special\",\"Yes\",\"Non_Promo\",\"No Brands\"],[\"No Special\",\"Yes\",\"Non_Promo\",\"No Brands\"],[\"No Special\",\"Yes\",\"Non_Promo\",\"No Brands\"],[\"No Special\",\"Yes\",\"Non_Promo\",\"No Brands\"],[\"No Special\",\"Yes\",\"Non_Promo\",\"No Brands\"],[\"No Special\",\"Yes\",\"Non_Promo\",\"No Brands\"],[\"No Special\",\"Yes\",\"Non_Promo\",\"No Brands\"],[\"No Special\",\"Yes\",\"Non_Promo\",\"No Brands\"],[\"No Special\",\"Yes\",\"Non_Promo\",\"No Brands\"],[\"No Special\",\"Yes\",\"Non_Promo\",\"No Brands\"],[\"No Special\",\"Yes\",\"Non_Promo\",\"No Brands\"],[\"No Special\",\"Yes\",\"Non_Promo\",\"No Brands\"],[\"No Special\",\"Yes\",\"Non_Promo\",\"No Brands\"],[\"No Special\",\"Yes\",\"Non_Promo\",\"No Brands\"],[\"No Special\",\"Yes\",\"Non_Promo\",\"No Brands\"],[\"No Special\",\"No\",\"Non_Promo\",\"No Brands\"],[\"No Special\",\"No\",\"Non_Promo\",\"No Brands\"],[\"No Special\",\"No\",\"Non_Promo\",\"No Brands\"],[\"No Special\",\"No\",\"Non_Promo\",\"No Brands\"],[\"No Special\",\"No\",\"Non_Promo\",\"No Brands\"],[\"No Special\",\"No\",\"Non_Promo\",\"No Brands\"],[\"No Special\",\"No\",\"Non_Promo\",\"No Brands\"],[\"No Special\",\"No\",\"Non_Promo\",\"No Brands\"],[\"No Special\",\"No\",\"Non_Promo\",\"No Brands\"],[\"No Special\",\"No\",\"Non_Promo\",\"No Brands\"],[\"No Special\",\"No\",\"Non_Promo\",\"No Brands\"],[\"No Special\",\"No\",\"Non_Promo\",\"No Brands\"],[\"No Special\",\"No\",\"Non_Promo\",\"No Brands\"],[\"No Special\",\"No\",\"Non_Promo\",\"No Brands\"],[\"No Special\",\"No\",\"Non_Promo\",\"No Brands\"],[\"No Special\",\"No\",\"Non_Promo\",\"No Brands\"],[\"No Special\",\"No\",\"7/28 - 5/35\",\"A_B\"],[\"No Special\",\"No\",\"7/28 - 5/35\",\"A_B\"],[\"No Special\",\"No\",\"Non_Promo\",\"No Brands\"],[\"No Special\",\"No\",\"Non_Promo\",\"No Brands\"],[\"No Special\",\"No\",\"Non_Promo\",\"No Brands\"],[\"No Special\",\"No\",\"Non_Promo\",\"No Brands\"],[\"No Special\",\"No\",\"Non_Promo\",\"No Brands\"],[\"No Special\",\"No\",\"b3g3\",\"A_B\"],[\"No Special\",\"No\",\"b3g3\",\"A_B\"],[\"No Special\",\"No\",\"b3g3\",\"A_B\"],[\"No Special\",\"No\",\"Non_Promo\",\"No Brands\"],[\"No Special\",\"No\",\"Non_Promo\",\"No Brands\"],[\"No Special\",\"No\",\"Non_Promo\",\"No Brands\"],[\"No Special\",\"No\",\"Non_Promo\",\"No Brands\"],[\"No Special\",\"No\",\"Non_Promo\",\"No Brands\"],[\"No Special\",\"No\",\"Non_Promo\",\"No Brands\"],[\"No Special\",\"No\",\"Non_Promo\",\"No Brands\"],[\"No Special\",\"No\",\"Non_Promo\",\"No Brands\"],[\"No Special\",\"No\",\"Non_Promo\",\"No Brands\"],[\"No Special\",\"No\",\"Non_Promo\",\"No Brands\"],[\"No Special\",\"No\",\"7/25\",\"A_B\"],[\"No Special\",\"No\",\"7/25\",\"A_B\"],[\"No Special\",\"No\",\"Non_Promo\",\"No Brands\"],[\"No Special\",\"No\",\"Non_Promo\",\"No Brands\"],[\"No Special\",\"No\",\"Non_Promo\",\"No Brands\"],[\"No Special\",\"No\",\"Non_Promo\",\"No Brands\"],[\"No Special\",\"No\",\"Non_Promo\",\"No Brands\"],[\"No Special\",\"No\",\"b3g3\",\"A_B\"],[\"No Special\",\"No\",\"b3g3\",\"A_B\"],[\"No Special\",\"No\",\"b3g3\",\"A_B\"],[\"No Special\",\"No\",\"b3g3\",\"A_B\"],[\"No Special\",\"No\",\"Non_Promo\",\"No Brands\"],[\"No Special\",\"No\",\"Non_Promo\",\"No Brands\"],[\"No Special\",\"No\",\"Non_Promo\",\"No Brands\"],[\"No Special\",\"No\",\"Non_Promo\",\"No Brands\"],[\"No Special\",\"No\",\"Non_Promo\",\"No Brands\"],[\"No Special\",\"No\",\"Non_Promo\",\"No Brands\"],[\"No Special\",\"No\",\"Non_Promo\",\"No Brands\"],[\"No Special\",\"No\",\"Non_Promo\",\"No Brands\"],[\"No Special\",\"No\",\"Non_Promo\",\"No Brands\"],[\"No Special\",\"No\",\"b3g3\",\"No Brands\"],[\"No Special\",\"No\",\"b3g3\",\"A_B\"],[\"No Special\",\"No\",\"b3g3\",\"A_B\"],[\"No Special\",\"No\",\"b3g3\",\"A_B\"],[\"No Special\",\"No\",\"b3g3\",\"A_B\"],[\"No Special\",\"No\",\"b3g3\",\"A_B\"],[\"No Special\",\"No\",\"Non_Promo\",\"No Brands\"],[\"No Special\",\"No\",\"Non_Promo\",\"No Brands\"],[\"No Special\",\"No\",\"7/28\",\"A_B\"],[\"No Special\",\"No\",\"7/28\",\"A_B\"],[\"No Special\",\"No\",\"7/28\",\"A_B\"],[\"No Special\",\"No\",\"7/28\",\"A_B\"],[\"Labour day\",\"No\",\"7/28\",\"A_B\"],[\"No Special\",\"No\",\"Non_Promo\",\"No Brands\"],[\"No Special\",\"No\",\"Non_Promo\",\"No Brands\"],[\"No Special\",\"No\",\"Non_Promo\",\"No Brands\"],[\"No Special\",\"No\",\"Non_Promo\",\"No Brands\"],[\"No Special\",\"No\",\"Non_Promo\",\"No Brands\"],[\"No Special\",\"No\",\"Non_Promo\",\"No Brands\"],[\"No Special\",\"No\",\"Non_Promo\",\"No Brands\"],[\"No Special\",\"No\",\"Non_Promo\",\"No Brands\"],[\"No Special\",\"No\",\"Non_Promo\",\"No Brands\"],[\"No Special\",\"No\",\"Non_Promo\",\"No Brands\"],[\"No Special\",\"No\",\"Non_Promo\",\"No Brands\"],[\"No Special\",\"No\",\"Non_Promo\",\"No Brands\"],[\"No Special\",\"No\",\"Non_Promo\",\"No Brands\"],[\"No Special\",\"No\",\"Non_Promo\",\"No Brands\"],[\"No Special\",\"No\",\"Non_Promo\",\"No Brands\"],[\"No Special\",\"No\",\"Non_Promo\",\"No Brands\"],[\"No Special\",\"No\",\"Non_Promo\",\"No Brands\"],[\"No Special\",\"No\",\"Non_Promo\",\"No Brands\"],[\"No Special\",\"No\",\"Non_Promo\",\"No Brands\"],[\"No Special\",\"No\",\"Non_Promo\",\"No Brands\"],[\"No Special\",\"No\",\"Non_Promo\",\"No Brands\"],[\"No Special\",\"No\",\"Non_Promo\",\"No Brands\"],[\"No Special\",\"No\",\"Non_Promo\",\"No Brands\"],[\"No Special\",\"No\",\"b3g3\",\"A_B\"],[\"No Special\",\"No\",\"b3g3\",\"A_B\"],[\"No Special\",\"No\",\"b3g3\",\"A_B\"],[\"No Special\",\"No\",\"b3g3\",\"A_B\"],[\"No Special\",\"No\",\"b3g3\",\"A_B\"],[\"No Special\",\"No\",\"b3g3\",\"A_B\"],[\"No Special\",\"No\",\"b3g3\",\"A_B\"],[\"No Special\",\"No\",\"10/35\",\"A_B\"],[\"No Special\",\"No\",\"10/35 - 7/28\",\"A_B\"],[\"No Special\",\"No\",\"10/35 - 7/28\",\"A_B\"],[\"No Special\",\"No\",\"10/35 - 7/28\",\"A_B\"],[\"Columbus day\",\"No\",\"10/35 - 7/28\",\"A_B\"],[\"No Special\",\"No\",\"Non_Promo\",\"No Brands\"],[\"No Special\",\"No\",\"Non_Promo\",\"No Brands\"],[\"No Special\",\"No\",\"Non_Promo\",\"No Brands\"],[\"No Special\",\"No\",\"5 HH\",\"A\"],[\"No Special\",\"No\",\"Non_Promo\",\"No Brands\"],[\"No Special\",\"No\",\"Non_Promo\",\"No Brands\"],[\"No Special\",\"No\",\"Non_Promo\",\"No Brands\"],[\"No Special\",\"No\",\"b3g3\",\"A\"],[\"No Special\",\"No\",\"b3g3\",\"A\"],[\"No Special\",\"No\",\"b3g3\",\"A\"],[\"No Special\",\"No\",\"b3g3\",\"A\"],[\"No Special\",\"No\",\"b3g3\",\"A\"],[\"No Special\",\"No\",\"b3g3\",\"A\"],[\"No Special\",\"No\",\"Non_Promo\",\"No Brands\"],[\"No Special\",\"No\",\"Non_Promo\",\"No Brands\"],[\"No Special\",\"No\",\"Non_Promo\",\"No Brands\"],[\"No Special\",\"No\",\"5/28.50\",\"A_B\"],[\"No Special\",\"No\",\"5/28.50\",\"A_B\"],[\"No Special\",\"No\",\"5/28.50\",\"A_B\"],[\"No Special\",\"No\",\"5/28.50\",\"A_B\"],[\"No Special\",\"No\",\"5/28.50\",\"A_B\"],[\"No Special\",\"No\",\"10/30\",\"A\"],[\"No Special\",\"No\",\"Non_Promo\",\"No Brands\"],[\"No Special\",\"No\",\"Non_Promo\",\"No Brands\"],[\"No Special\",\"No\",\"5 HH\",\"A\"],[\"No Special\",\"No\",\"5 HH\",\"A\"],[\"No Special\",\"No\",\"Non_Promo\",\"No Brands\"],[\"No Special\",\"No\",\"Non_Promo\",\"No Brands\"],[\"No Special\",\"No\",\"Non_Promo\",\"No Brands\"],[\"No Special\",\"No\",\"Non_Promo\",\"No Brands\"],[\"No Special\",\"No\",\"10/35\",\"A_B\"],[\"No Special\",\"No\",\"10/35\",\"A_B\"],[\"No Special\",\"No\",\"10/35\",\"A_B\"],[\"No Special\",\"No\",\"10/35\",\"A_B\"],[\"Veterans day\",\"No\",\"10/35\",\"A_B\"],[\"No Special\",\"No\",\"b3g3\",\"A\"],[\"No Special\",\"No\",\"b3g3\",\"A\"],[\"No Special\",\"No\",\"b3g3\",\"A\"],[\"No Special\",\"No\",\"b3g3\",\"A\"],[\"No Special\",\"No\",\"b3g3\",\"A\"],[\"No Special\",\"No\",\"b3g3\",\"A\"],[\"No Special\",\"No\",\"b3g3\",\"A\"],[\"No Special\",\"No\",\"b3g3\",\"A\"],[\"thanks giving -1\",\"No\",\"b3g3\",\"A\"],[\"Thanks giving\",\"No\",\"Non_Promo\",\"No Brands\"],[\"thanks giving + 1\",\"No\",\"Non_Promo\",\"No Brands\"],[\"No Special\",\"No\",\"Non_Promo\",\"No Brands\"],[\"No Special\",\"No\",\"Non_Promo\",\"No Brands\"],[\"No Special\",\"No\",\"Non_Promo\",\"No Brands\"],[\"No Special\",\"No\",\"Non_Promo\",\"No Brands\"],[\"No Special\",\"No\",\"Non_Promo\",\"No Brands\"],[\"No Special\",\"No\",\"10/35\",\"A_B\"],[\"No Special\",\"No\",\"Non_Promo\",\"No Brands\"],[\"No Special\",\"No\",\"Non_Promo\",\"No Brands\"],[\"No Special\",\"No\",\"Non_Promo\",\"No Brands\"],[\"No Special\",\"No\",\"Non_Promo\",\"No Brands\"],[\"No Special\",\"No\",\"Non_Promo\",\"No Brands\"],[\"No Special\",\"No\",\"Non_Promo\",\"No Brands\"],[\"No Special\",\"No\",\"Non_Promo\",\"No Brands\"],[\"No Special\",\"No\",\"Non_Promo\",\"No Brands\"],[\"No Special\",\"No\",\"Non_Promo\",\"No Brands\"],[\"No Special\",\"No\",\"Non_Promo\",\"No Brands\"],[\"No Special\",\"No\",\"Non_Promo\",\"No Brands\"],[\"No Special\",\"No\",\"Non_Promo\",\"No Brands\"],[\"No Special\",\"No\",\"Non_Promo\",\"No Brands\"],[\"No Special\",\"No\",\"Non_Promo\",\"No Brands\"],[\"No Special\",\"No\",\"Non_Promo\",\"No Brands\"],[\"No Special\",\"No\",\"Non_Promo\",\"No Brands\"],[\"No Special\",\"No\",\"Non_Promo\",\"No Brands\"],[\"No Special\",\"No\",\"Non_Promo\",\"No Brands\"],[\"No Special\",\"No\",\"b3g3\",\"A\"],[\"No Special\",\"No\",\"b3g3\",\"A\"],[\"No Special\",\"No\",\"b3g3\",\"A\"],[\"No Special\",\"No\",\"b3g3\",\"A\"],[\"Holiday\",\"No\",\"Non_Promo\",\"No Brands\"],[\"Holiday\",\"No\",\"7/28\",\"A_B\"],[\"Holiday\",\"No\",\"7/28\",\"A_B\"],[\"Christmas\",\"No\",\"7/28\",\"A_B\"],[\"Holiday\",\"No\",\"7/28\",\"A_B\"],[\"Holiday\",\"No\",\"7/28\",\"A_B\"],[\"Holiday\",\"No\",\"Non_Promo\",\"No Brands\"],[\"Holiday\",\"Yes\",\"Non_Promo\",\"No Brands\"],[\"Holiday\",\"Yes\",\"Non_Promo\",\"No Brands\"],[\"New Year -1\",\"Yes\",\"Non_Promo\",\"No Brands\"],[\"New Year\",\"Yes\",\"Non_Promo\",\"No Brands\"],[\"No Special\",\"Yes\",\"Non_Promo\",\"No Brands\"],[\"No Special\",\"Yes\",\"Non_Promo\",\"No Brands\"],[\"No Special\",\"Yes\",\"Non_Promo\",\"No Brands\"],[\"No Special\",\"Yes\",\"Non_Promo\",\"No Brands\"],[\"No Special\",\"Yes\",\"Non_Promo\",\"No Brands\"],[\"No Special\",\"Yes\",\"Non_Promo\",\"No Brands\"],[\"No Special\",\"Yes\",\"Non_Promo\",\"No Brands\"],[\"No Special\",\"Yes\",\"Non_Promo\",\"No Brands\"],[\"No Special\",\"Yes\",\"Non_Promo\",\"No Brands\"],[\"No Special\",\"Yes\",\"Non_Promo\",\"No Brands\"],[\"No Special\",\"Yes\",\"Non_Promo\",\"No Brands\"],[\"No Special\",\"Yes\",\"Non_Promo\",\"No Brands\"],[\"No Special\",\"Yes\",\"Non_Promo\",\"No Brands\"],[\"No Special\",\"Yes\",\"Non_Promo\",\"No Brands\"],[\"No Special\",\"Yes\",\"Non_Promo\",\"No Brands\"],[\"No Special\",\"Yes\",\"Non_Promo\",\"No Brands\"],[\"No Special\",\"Yes\",\"Non_Promo\",\"No Brands\"],[\"No Special\",\"Yes\",\"Non_Promo\",\"No Brands\"],[\"No Special\",\"Yes\",\"Non_Promo\",\"No Brands\"],[\"Martin Luther day\",\"Yes\",\"Non_Promo\",\"No Brands\"],[\"No Special\",\"Yes\",\"Non_Promo\",\"No Brands\"],[\"No Special\",\"No\",\"Non_Promo\",\"No Brands\"],[\"No Special\",\"No\",\"Non_Promo\",\"No Brands\"],[\"No Special\",\"No\",\"Non_Promo\",\"No Brands\"],[\"No Special\",\"No\",\"Non_Promo\",\"No Brands\"],[\"No Special\",\"No\",\"Non_Promo\",\"No Brands\"],[\"No Special\",\"No\",\"Non_Promo\",\"No Brands\"],[\"No Special\",\"No\",\"Non_Promo\",\"No Brands\"],[\"No Special\",\"No\",\"Non_Promo\",\"No Brands\"],[\"No Special\",\"No\",\"Non_Promo\",\"No Brands\"],[\"No Special\",\"No\",\"Non_Promo\",\"No Brands\"],[\"No Special\",\"No\",\"Non_Promo\",\"No Brands\"],[\"No Special\",\"No\",\"Non_Promo\",\"No Brands\"],[\"No Special\",\"No\",\"Non_Promo\",\"No Brands\"],[\"No Special\",\"No\",\"Non_Promo\",\"No Brands\"],[\"No Special\",\"No\",\"Non_Promo\",\"No Brands\"],[\"No Special\",\"No\",\"Non_Promo\",\"No Brands\"],[\"No Special\",\"No\",\"5/35\",\"A\"],[\"No Special\",\"No\",\"5/35\",\"A\"],[\"No Special\",\"No\",\"5/35\",\"A\"],[\"No Special\",\"No\",\"5/35\",\"A\"],[\"No Special\",\"No\",\"Non_Promo\",\"No Brands\"],[\"Vday -1\",\"No\",\"Non_Promo\",\"No Brands\"],[\"Valentines\",\"No\",\"7/28 - 10/35\",\"A_B\"],[\"No Special\",\"No\",\"7/28 - 10/35\",\"A_B\"],[\"No Special\",\"No\",\"7/28 - 10/35\",\"A_B\"],[\"No Special\",\"No\",\"7/28 - 10/35\",\"A_B\"],[\"Presidents day\",\"No\",\"7/28 - 10/35\",\"A_B\"],[\"No Special\",\"No\",\"Non_Promo\",\"No Brands\"],[\"No Special\",\"No\",\"Non_Promo\",\"No Brands\"],[\"No Special\",\"No\",\"Non_Promo\",\"No Brands\"],[\"No Special\",\"No\",\"5 HH\",\"A\"],[\"No Special\",\"No\",\"Non_Promo\",\"No Brands\"],[\"No Special\",\"No\",\"Non_Promo\",\"No Brands\"],[\"No Special\",\"No\",\"Non_Promo\",\"No Brands\"],[\"No Special\",\"No\",\"Non_Promo\",\"No Brands\"],[\"No Special\",\"No\",\"Non_Promo\",\"No Brands\"],[\"No Special\",\"No\",\"Non_Promo\",\"No Brands\"],[\"No Special\",\"No\",\"Non_Promo\",\"No Brands\"],[\"No Special\",\"No\",\"Non_Promo\",\"No Brands\"],[\"No Special\",\"No\",\"Non_Promo\",\"No Brands\"],[\"No Special\",\"No\",\"Non_Promo\",\"No Brands\"],[\"No Special\",\"No\",\"Non_Promo\",\"No Brands\"],[\"No Special\",\"No\",\"Non_Promo\",\"No Brands\"],[\"No Special\",\"No\",\"Non_Promo\",\"No Brands\"],[\"No Special\",\"No\",\"Non_Promo\",\"No Brands\"],[\"No Special\",\"No\",\"Non_Promo\",\"No Brands\"],[\"No Special\",\"No\",\"Non_Promo\",\"No Brands\"],[\"No Special\",\"No\",\"Non_Promo\",\"No Brands\"],[\"No Special\",\"No\",\"Non_Promo\",\"No Brands\"],[\"No Special\",\"No\",\"Non_Promo\",\"No Brands\"],[\"No Special\",\"No\",\"Non_Promo\",\"No Brands\"],[\"No Special\",\"No\",\"10/35 - 9/32\",\"A_B\"],[\"No Special\",\"No\",\"10/35 - 9/32\",\"A_B\"],[\"St.Patricks' day\",\"No\",\"Non_Promo\",\"No Brands\"],[\"OUTLIER\",\"No\",\"Non_Promo\",\"No Brands\"],[\"No Special\",\"No\",\"Non_Promo\",\"No Brands\"],[\"No Special\",\"No\",\"Non_Promo\",\"No Brands\"],[\"No Special\",\"No\",\"Non_Promo\",\"No Brands\"],[\"No Special\",\"No\",\"Non_Promo\",\"No Brands\"],[\"No Special\",\"No\",\"Non_Promo\",\"No Brands\"],[\"No Special\",\"No\",\"Non_Promo\",\"No Brands\"],[\"No Special\",\"No\",\"Non_Promo\",\"No Brands\"],[\"No Special\",\"No\",\"Non_Promo\",\"No Brands\"],[\"No Special\",\"No\",\"Non_Promo\",\"No Brands\"],[\"No Special\",\"No\",\"Non_Promo\",\"No Brands\"],[\"No Special\",\"No\",\"7/28 - 10/35\",\"A_B\"],[\"No Special\",\"No\",\"7/28 - 10/35\",\"A_B\"],[\"No Special\",\"No\",\"7/28\",\"A\"],[\"No Special\",\"No\",\"Non_Promo\",\"No Brands\"],[\"No Special\",\"No\",\"Non_Promo\",\"No Brands\"],[\"No Special\",\"No\",\"Non_Promo\",\"No Brands\"],[\"No Special\",\"No\",\"Non_Promo\",\"No Brands\"],[\"No Special\",\"No\",\"Non_Promo\",\"No Brands\"],[\"No Special\",\"No\",\"Non_Promo\",\"No Brands\"],[\"No Special\",\"No\",\"Non_Promo\",\"No Brands\"],[\"No Special\",\"No\",\"Non_Promo\",\"No Brands\"],[\"No Special\",\"No\",\"Non_Promo\",\"No Brands\"],[\"No Special\",\"No\",\"Non_Promo\",\"No Brands\"],[\"No Special\",\"No\",\"Non_Promo\",\"No Brands\"],[\"No Special\",\"No\",\"Non_Promo\",\"No Brands\"],[\"No Special\",\"No\",\"Non_Promo\",\"No Brands\"],[\"No Special\",\"No\",\"Non_Promo\",\"No Brands\"],[\"No Special\",\"No\",\"Non_Promo\",\"No Brands\"],[\"No Special\",\"No\",\"Non_Promo\",\"No Brands\"],[\"No Special\",\"No\",\"Non_Promo\",\"No Brands\"],[\"No Special\",\"No\",\"Non_Promo\",\"No Brands\"],[\"OUTLIER\",\"No\",\"Non_Promo\",\"No Brands\"],[\"No Special\",\"No\",\"Non_Promo\",\"No Brands\"],[\"Easter\",\"No\",\"Non_Promo\",\"No Brands\"],[\"No Special\",\"No\",\"b3g3\",\"A\"],[\"No Special\",\"No\",\"b3g3\",\"A\"],[\"No Special\",\"No\",\"b3g3\",\"A\"],[\"No Special\",\"No\",\"b3g3\",\"B\"],[\"No Special\",\"No\",\"b3g3\",\"A\"],[\"No Special\",\"No\",\"b3g3\",\"A\"],[\"No Special\",\"No\",\"Non_Promo\",\"No Brands\"],[\"No Special\",\"No\",\"Non_Promo\",\"No Brands\"],[\"No Special\",\"No\",\"Non_Promo\",\"No Brands\"],[\"No Special\",\"No\",\"Non_Promo\",\"No Brands\"],[\"No Special\",\"No\",\"Non_Promo\",\"No Brands\"],[\"No Special\",\"No\",\"Non_Promo\",\"No Brands\"],[\"No Special\",\"No\",\"Non_Promo\",\"No Brands\"],[\"No Special\",\"No\",\"Non_Promo\",\"No Brands\"],[\"No Special\",\"No\",\"Non_Promo\",\"No Brands\"],[\"No Special\",\"No\",\"Non_Promo\",\"No Brands\"],[\"No Special\",\"No\",\"Non_Promo\",\"No Brands\"],[\"No Special\",\"No\",\"Non_Promo\",\"No Brands\"],[\"No Special\",\"No\",\"Non_Promo\",\"No Brands\"],[\"Mothers day -1\",\"No\",\"Non_Promo\",\"No Brands\"],[\"Mothers day\",\"No\",\"Non_Promo\",\"No Brands\"],[\"No Special\",\"No\",\"Non_Promo\",\"No Brands\"],[\"No Special\",\"No\",\"Non_Promo\",\"No Brands\"],[\"No Special\",\"No\",\"Non_Promo\",\"No Brands\"],[\"No Special\",\"No\",\"Non_Promo\",\"No Brands\"],[\"No Special\",\"No\",\"Non_Promo\",\"No Brands\"],[\"No Special\",\"No\",\"b3g3\",\"A\"],[\"No Special\",\"No\",\"b3g3\",\"A\"],[\"No Special\",\"No\",\"b3g3\",\"A\"],[\"No Special\",\"No\",\"b3g3\",\"A\"],[\"No Special\",\"No\",\"10/35\",\"A_B\"],[\"No Special\",\"No\",\"7/28\",\"A\"],[\"No Special\",\"No\",\"7/28\",\"A\"],[\"No Special\",\"No\",\"7/28\",\"A\"],[\"No Special\",\"No\",\"7/28\",\"A\"],[\"Memorial day\",\"No\",\"7/28\",\"A\"],[\"No Special\",\"No\",\"Non_Promo\",\"No Brands\"],[\"No Special\",\"No\",\"Non_Promo\",\"No Brands\"],[\"No Special\",\"No\",\"Non_Promo\",\"No Brands\"],[\"No Special\",\"Yes\",\"Non_Promo\",\"No Brands\"],[\"No Special\",\"Yes\",\"Non_Promo\",\"No Brands\"],[\"No Special\",\"Yes\",\"Non_Promo\",\"No Brands\"],[\"No Special\",\"Yes\",\"Non_Promo\",\"No Brands\"],[\"No Special\",\"Yes\",\"Non_Promo\",\"No Brands\"],[\"No Special\",\"Yes\",\"Non_Promo\",\"No Brands\"],[\"No Special\",\"Yes\",\"Non_Promo\",\"No Brands\"],[\"No Special\",\"Yes\",\"Non_Promo\",\"No Brands\"],[\"No Special\",\"Yes\",\"Non_Promo\",\"No Brands\"],[\"No Special\",\"Yes\",\"Non_Promo\",\"No Brands\"],[\"No Special\",\"Yes\",\"Non_Promo\",\"No Brands\"],[\"No Special\",\"Yes\",\"Non_Promo\",\"No Brands\"],[\"No Special\",\"Yes\",\"Non_Promo\",\"No Brands\"],[\"No Special\",\"Yes\",\"Non_Promo\",\"No Brands\"],[\"No Special\",\"Yes\",\"5/15\",\"B\"],[\"No Special\",\"Yes\",\"5/15\",\"B\"],[\"No Special\",\"Yes\",\"5/15\",\"B\"],[\"No Special\",\"Yes\",\"Non_Promo\",\"No Brands\"],[\"No Special\",\"Yes\",\"Non_Promo\",\"No Brands\"],[\"No Special\",\"Yes\",\"Non_Promo\",\"No Brands\"],[\"No Special\",\"Yes\",\"Non_Promo\",\"No Brands\"],[\"No Special\",\"Yes\",\"Non_Promo\",\"No Brands\"],[\"No Special\",\"Yes\",\"Non_Promo\",\"No Brands\"],[\"No Special\",\"Yes\",\"Non_Promo\",\"No Brands\"],[\"No Special\",\"Yes\",\"Non_Promo\",\"No Brands\"],[\"No Special\",\"Yes\",\"Non_Promo\",\"No Brands\"],[\"No Special\",\"No\",\"Non_Promo\",\"No Brands\"],[\"No Special\",\"No\",\"Non_Promo\",\"No Brands\"],[\"No Special\",\"No\",\"Non_Promo\",\"No Brands\"],[\"No Special\",\"No\",\"Non_Promo\",\"No Brands\"],[\"No Special\",\"No\",\"Non_Promo\",\"No Brands\"],[\"No Special\",\"No\",\"Non_Promo\",\"No Brands\"],[\"No Special\",\"No\",\"Non_Promo\",\"No Brands\"],[\"No Special\",\"No\",\"Non_Promo\",\"No Brands\"],[\"Independence day\",\"No\",\"Non_Promo\",\"No Brands\"],[\"No Special\",\"No\",\"Non_Promo\",\"No Brands\"],[\"No Special\",\"No\",\"Non_Promo\",\"No Brands\"],[\"No Special\",\"No\",\"Non_Promo\",\"No Brands\"],[\"No Special\",\"No\",\"Non_Promo\",\"No Brands\"],[\"No Special\",\"No\",\"Non_Promo\",\"No Brands\"],[\"Outlier\",\"No\",\"Non_Promo\",\"No Brands\"],[\"No Special\",\"No\",\"10/35\",\"A_B\"],[\"No Special\",\"No\",\"7/28 - 10/35\",\"A_B\"],[\"No Special\",\"No\",\"7/28 - 10/35\",\"A_B\"],[\"No Special\",\"No\",\"7/28 - 10/35\",\"A_B\"],[\"No Special\",\"No\",\"Non_Promo\",\"No Brands\"],[\"No Special\",\"No\",\"Non_Promo\",\"No Brands\"],[\"No Special\",\"No\",\"Non_Promo\",\"No Brands\"],[\"No Special\",\"No\",\"b3g3\",\"A\"],[\"No Special\",\"No\",\"b3g3\",\"A\"],[\"No Special\",\"No\",\"b3g3\",\"A\"],[\"No Special\",\"No\",\"b3g3\",\"A_B\"],[\"No Special\",\"No\",\"b3g3\",\"A_B\"],[\"No Special\",\"No\",\"4/19.95\",\"B\"],[\"No Special\",\"No\",\"4/19.95\",\"B\"],[\"No Special\",\"No\",\"4/19.95\",\"B\"],[\"No Special\",\"No\",\"4/19.95\",\"B\"],[\"No Special\",\"No\",\"4/19.95\",\"B\"],[\"No Special\",\"No\",\"4/19.95\",\"B\"],[\"No Special\",\"No\",\"4/19.95\",\"B\"],[\"No Special\",\"No\",\"4/19.95\",\"B\"],[\"No Special\",\"No\",\"Non_Promo\",\"No Brands\"],[\"No Special\",\"No\",\"Non_Promo\",\"No Brands\"],[\"No Special\",\"No\",\"7/25\",\"A_B\"],[\"No Special\",\"No\",\"Non_Promo\",\"No Brands\"],[\"No Special\",\"No\",\"Non_Promo\",\"No Brands\"],[\"No Special\",\"No\",\"Non_Promo\",\"No Brands\"],[\"No Special\",\"No\",\"Non_Promo\",\"No Brands\"],[\"No Special\",\"No\",\"Non_Promo\",\"No Brands\"],[\"No Special\",\"No\",\"b3g3\",\"A\"],[\"No Special\",\"No\",\"b3g3\",\"A\"],[\"No Special\",\"No\",\"b3g3\",\"A\"],[\"No Special\",\"No\",\"b3g3\",\"A\"],[\"No Special\",\"No\",\"b3g3\",\"A\"],[\"No Special\",\"No\",\"Non_Promo\",\"No Brands\"],[\"No Special\",\"No\",\"7/28\",\"A\"],[\"No Special\",\"No\",\"7/28\",\"A\"],[\"No Special\",\"No\",\"7/28\",\"A\"],[\"No Special\",\"No\",\"7/28\",\"A\"],[\"No Special\",\"No\",\"7/28\",\"A\"],[\"No Special\",\"No\",\"7/28\",\"A\"],[\"No Special\",\"No\",\"Non_Promo\",\"No Brands\"],[\"No Special\",\"No\",\"Non_Promo\",\"No Brands\"],[\"No Special\",\"No\",\"Non_Promo\",\"No Brands\"],[\"No Special\",\"No\",\"Non_Promo\",\"No Brands\"],[\"No Special\",\"No\",\"Non_Promo\",\"No Brands\"],[\"No Special\",\"No\",\"b3g3\",\"A\"],[\"No Special\",\"No\",\"b3g3\",\"A_B\"],[\"No Special\",\"No\",\"b3g3\",\"A\"],[\"No Special\",\"No\",\"Non_Promo\",\"No Brands\"],[\"No Special\",\"No\",\"10/35\",\"A_B\"],[\"No Special\",\"No\",\"10/35\",\"A_B\"],[\"No Special\",\"No\",\"10/35\",\"A_B\"],[\"No Special\",\"No\",\"10/35\",\"A_B\"],[\"Labour Day\",\"No\",\"7/28 - 10/35\",\"A_B\"],[\"No Special\",\"No\",\"7/28 - 10/35\",\"A_B\"],[\"No Special\",\"No\",\"Non_Promo\",\"No Brands\"],[\"No Special\",\"No\",\"Non_Promo\",\"No Brands\"],[\"No Special\",\"No\",\"Non_Promo\",\"No Brands\"],[\"No Special\",\"No\",\"Non_Promo\",\"No Brands\"],[\"No Special\",\"No\",\"Non_Promo\",\"No Brands\"],[\"No Special\",\"No\",\"Non_Promo\",\"No Brands\"],[\"No Special\",\"No\",\"Non_Promo\",\"No Brands\"],[\"No Special\",\"No\",\"b3g3\",\"A\"],[\"No Special\",\"No\",\"b3g3\",\"A\"],[\"No Special\",\"No\",\"b3g3\",\"A\"],[\"No Special\",\"No\",\"b3g3\",\"A\"],[\"No Special\",\"No\",\"b3g3\",\"A\"],[\"No Special\",\"No\",\"b3g3\",\"A\"],[\"No Special\",\"No\",\"b3g3\",\"A\"],[\"No Special\",\"No\",\"b3g3\",\"A\"],[\"No Special\",\"No\",\"b3g3\",\"A\"],[\"OUTLIER\",\"No\",\"Non_Promo\",\"No Brands\"],[\"OUTLIER\",\"No\",\"Non_Promo\",\"No Brands\"],[\"Outlier\",\"No\",\"Non_Promo\",\"No Brands\"],[\"No Special\",\"No\",\"Non_Promo\",\"No Brands\"],[\"No Special\",\"No\",\"b3g3\",\"A\"],[\"No Special\",\"No\",\"b3g3\",\"A\"],[\"No Special\",\"No\",\"Non_Promo\",\"No Brands\"],[\"No Special\",\"No\",\"Non_Promo\",\"No Brands\"],[\"No Special\",\"No\",\"b3g3\",\"A\"],[\"No Special\",\"No\",\"b3g3\",\"A\"],[\"No Special\",\"No\",\"b3g3\",\"A\"],[\"No Special\",\"No\",\"b3g3\",\"A\"],[\"No Special\",\"No\",\"9/30\",\"B\"],[\"No Special\",\"No\",\"9/30\",\"B\"],[\"No Special\",\"No\",\"9/30\",\"B\"],[\"No Special\",\"No\",\"9/30\",\"B\"],[\"No Special\",\"No\",\"9/30\",\"B\"],[\"No Special\",\"No\",\"Non_Promo\",\"No Brands\"],[\"No Special\",\"No\",\"Non_Promo\",\"No Brands\"],[\"No Special\",\"No\",\"10/35\",\"A_B\"],[\"No Special\",\"No\",\"10/35\",\"A_B\"],[\"No Special\",\"No\",\"10/35\",\"A_B\"],[\"No Special\",\"No\",\"10/35\",\"A_B\"],[\"No Special\",\"No\",\"10/35\",\"A_B\"],[\"Columbus Day\",\"No\",\"10/35\",\"A_B\"],[\"No Special\",\"No\",\"Non_Promo\",\"No Brands\"],[\"No Special\",\"No\",\"Non_Promo\",\"No Brands\"],[\"No Special\",\"No\",\"Non_Promo\",\"No Brands\"],[\"No Special\",\"No\",\"Non_Promo\",\"No Brands\"],[\"No Special\",\"No\",\"Non_Promo\",\"No Brands\"],[\"No Special\",\"No\",\"Non_Promo\",\"No Brands\"],[\"No Special\",\"No\",\"Non_Promo\",\"No Brands\"],[\"No Special\",\"No\",\"b3g3\",\"A\"],[\"No Special\",\"No\",\"b3g3\",\"A\"],[\"No Special\",\"No\",\"b3g3\",\"A\"],[\"No Special\",\"No\",\"b3g3\",\"A\"],[\"No Special\",\"No\",\"b3g3\",\"A\"],[\"No Special\",\"No\",\"b3g3\",\"A\"],[\"No Special\",\"No\",\"b3g3\",\"A\"],[\"No Special\",\"No\",\"b3g3\",\"A\"],[\"No Special\",\"No\",\"b3g3\",\"A\"],[\"No Special\",\"No\",\"b3g3\",\"A\"],[\"No Special\",\"No\",\"b3g3\",\"A\"],[\"No Special\",\"No\",\"b3g3\",\"A\"],[\"No Special\",\"No\",\"b3g3\",\"A\"],[\"No Special\",\"No\",\"b3g3\",\"A\"],[\"No Special\",\"No\",\"b3g3\",\"A\"],[\"No Special\",\"No\",\"10/35\",\"A\"],[\"No Special\",\"No\",\"10/35\",\"A_B\"],[\"No Special\",\"No\",\"10/35\",\"A_B\"],[\"No Special\",\"No\",\"10/35\",\"A_B\"],[\"No Special\",\"No\",\"10/35\",\"A_B\"],[\"Veterans day\",\"No\",\"10/35\",\"A_B\"],[\"No Special\",\"No\",\"10/35\",\"A\"],[\"No Special\",\"No\",\"b3g3\",\"A\"],[\"No Special\",\"No\",\"b3g3\",\"A\"],[\"No Special\",\"No\",\"5/25\",\"A\"],[\"No Special\",\"No\",\"5/25\",\"A\"],[\"No Special\",\"No\",\"5/25\",\"A\"],[\"No Special\",\"No\",\"b3g3\",\"A\"],[\"No Special\",\"No\",\"b3g3\",\"A\"],[\"No Special\",\"No\",\"Non_Promo\",\"No Brands\"],[\"No Special\",\"No\",\"Non_Promo\",\"No Brands\"],[\"No Special\",\"No\",\"b3g3\",\"A_B\"],[\"No Special\",\"No\",\"b3g3\",\"A_B\"],[\"No Special\",\"No\",\"b3g3\",\"A_B\"],[\"No Special\",\"No\",\"b3g3\",\"A_B\"],[\"No Special\",\"No\",\"Non_Promo\",\"No Brands\"],[\"Thanks giving -1\",\"No\",\"Non_Promo\",\"No Brands\"],[\"Thanks giving\",\"No\",\"Non_Promo\",\"No Brands\"],[\"Outlier\",\"No\",\"Non_Promo\",\"No Brands\"],[\"OUTLIER\",\"No\",\"Non_Promo\",\"No Brands\"],[\"No Special\",\"No\",\"Non_Promo\",\"No Brands\"],[\"No Special\",\"No\",\"Non_Promo\",\"No Brands\"],[\"No Special\",\"No\",\"Non_Promo\",\"No Brands\"],[\"No Special\",\"No\",\"Non_Promo\",\"No Brands\"],[\"No Special\",\"No\",\"10/35\",\"B\"],[\"No Special\",\"No\",\"10/35\",\"B\"],[\"No Special\",\"No\",\"10/35\",\"B\"],[\"No Special\",\"No\",\"10/35\",\"B\"],[\"No Special\",\"No\",\"b3g3\",\"A\"],[\"No Special\",\"No\",\"b3g3\",\"A\"],[\"No Special\",\"No\",\"b3g3\",\"A\"],[\"No Special\",\"No\",\"b3g3\",\"A\"],[\"No Special\",\"No\",\"b3g3\",\"A\"],[\"No Special\",\"No\",\"b3g3\",\"A\"],[\"No Special\",\"No\",\"b3g3\",\"A\"],[\"No Special\",\"No\",\"b3g3\",\"A\"],[\"No Special\",\"No\",\"b3g3\",\"A\"],[\"No Special\",\"No\",\"b3g3\",\"A\"],[\"No Special\",\"No\",\"10/35\",\"A_B\"],[\"No Special\",\"No\",\"10/35\",\"A_B\"],[\"Holiday\",\"No\",\"10/35\",\"A_B\"],[\"Holiday\",\"No\",\"10/35\",\"A_B\"],[\"Holiday\",\"No\",\"10/35\",\"A_B\"],[\"Christmas -1\",\"No\",\"10/35\",\"A_B\"],[\"Christmas\",\"No\",\"10/35\",\"A_B\"],[\"Holiday\",\"Yes\",\"b3g3\",\"A\"],[\"Holiday\",\"Yes\",\"b3g3\",\"A\"],[\"Holiday\",\"Yes\",\"b3g3\",\"A\"],[\"Holiday\",\"Yes\",\"Non_Promo\",\"No Brands\"],[\"Holiday\",\"Yes\",\"Non_Promo\",\"No Brands\"],[\"Holiday\",\"Yes\",\"Non_Promo\",\"No Brands\"],[\"Holiday\",\"Yes\",\"Non_Promo\",\"No Brands\"],[\"No Special\",\"Yes\",\"Non_Promo\",\"No Brands\"],[\"No Special\",\"Yes\",\"Non_Promo\",\"No Brands\"],[\"No Special\",\"Yes\",\"Non_Promo\",\"No Brands\"],[\"No Special\",\"Yes\",\"Non_Promo\",\"No Brands\"],[\"No Special\",\"Yes\",\"Non_Promo\",\"No Brands\"],[\"No Special\",\"Yes\",\"Non_Promo\",\"No Brands\"],[\"No Special\",\"Yes\",\"Non_Promo\",\"No Brands\"],[\"No Special\",\"Yes\",\"Non_Promo\",\"No Brands\"],[\"No Special\",\"Yes\",\"Non_Promo\",\"No Brands\"],[\"No Special\",\"Yes\",\"Non_Promo\",\"No Brands\"],[\"No Special\",\"Yes\",\"Non_Promo\",\"No Brands\"],[\"No Special\",\"Yes\",\"Non_Promo\",\"No Brands\"],[\"No Special\",\"Yes\",\"Non_Promo\",\"No Brands\"],[\"No Special\",\"Yes\",\"Non_Promo\",\"No Brands\"],[\"No Special\",\"Yes\",\"Non_Promo\",\"No Brands\"],[\"No Special\",\"Yes\",\"Non_Promo\",\"No Brands\"],[\"No Special\",\"Yes\",\"Non_Promo\",\"No Brands\"],[\"No Special\",\"Yes\",\"Non_Promo\",\"No Brands\"],[\"Martin Luther king day\",\"Yes\",\"Non_Promo\",\"No Brands\"],[\"No Special\",\"Yes\",\"b3g3\",\"A\"],[\"No Special\",\"Yes\",\"b3g3\",\"A\"],[\"No Special\",\"Yes\",\"b3g3\",\"A\"],[\"No Special\",\"Yes\",\"b3g3\",\"A\"],[\"No Special\",\"Yes\",\"b3g3\",\"A\"],[\"No Special\",\"Yes\",\"b3g3\",\"A\"],[\"No Special\",\"Yes\",\"b3g3\",\"A\"],[\"No Special\",\"Yes\",\"b3g3\",\"A\"],[\"No Special\",\"Yes\",\"b3g3\",\"A\"],[\"No Special\",\"Yes\",\"b3g3\",\"A\"],[\"No Special\",\"Yes\",\"b3g3\",\"A\"]],\"hovertemplate\":\"Date=%{x}<br>Transactions=%{y}<br>Special day=%{customdata[0]}<br>Clearance=%{customdata[1]}<br>promo_name=%{customdata[2]}<br>Brands=%{customdata[3]}<extra></extra>\",\"legendgroup\":\"\",\"line\":{\"color\":\"#636efa\",\"dash\":\"solid\"},\"marker\":{\"symbol\":\"circle\"},\"mode\":\"lines\",\"name\":\"\",\"orientation\":\"v\",\"showlegend\":false,\"x\":[\"2018-02-04T00:00:00\",\"2018-02-05T00:00:00\",\"2018-02-06T00:00:00\",\"2018-02-07T00:00:00\",\"2018-02-08T00:00:00\",\"2018-02-09T00:00:00\",\"2018-02-10T00:00:00\",\"2018-02-11T00:00:00\",\"2018-02-12T00:00:00\",\"2018-02-13T00:00:00\",\"2018-02-14T00:00:00\",\"2018-02-15T00:00:00\",\"2018-02-16T00:00:00\",\"2018-02-17T00:00:00\",\"2018-02-18T00:00:00\",\"2018-02-19T00:00:00\",\"2018-02-20T00:00:00\",\"2018-02-21T00:00:00\",\"2018-02-22T00:00:00\",\"2018-02-23T00:00:00\",\"2018-02-24T00:00:00\",\"2018-02-25T00:00:00\",\"2018-02-26T00:00:00\",\"2018-02-27T00:00:00\",\"2018-02-28T00:00:00\",\"2018-03-01T00:00:00\",\"2018-03-02T00:00:00\",\"2018-03-03T00:00:00\",\"2018-03-04T00:00:00\",\"2018-03-05T00:00:00\",\"2018-03-06T00:00:00\",\"2018-03-07T00:00:00\",\"2018-03-08T00:00:00\",\"2018-03-09T00:00:00\",\"2018-03-10T00:00:00\",\"2018-03-11T00:00:00\",\"2018-03-12T00:00:00\",\"2018-03-13T00:00:00\",\"2018-03-14T00:00:00\",\"2018-03-15T00:00:00\",\"2018-03-16T00:00:00\",\"2018-03-17T00:00:00\",\"2018-03-18T00:00:00\",\"2018-03-19T00:00:00\",\"2018-03-20T00:00:00\",\"2018-03-21T00:00:00\",\"2018-03-22T00:00:00\",\"2018-03-23T00:00:00\",\"2018-03-24T00:00:00\",\"2018-03-25T00:00:00\",\"2018-03-26T00:00:00\",\"2018-03-27T00:00:00\",\"2018-03-28T00:00:00\",\"2018-03-29T00:00:00\",\"2018-03-30T00:00:00\",\"2018-03-31T00:00:00\",\"2018-04-01T00:00:00\",\"2018-04-02T00:00:00\",\"2018-04-03T00:00:00\",\"2018-04-04T00:00:00\",\"2018-04-05T00:00:00\",\"2018-04-06T00:00:00\",\"2018-04-07T00:00:00\",\"2018-04-08T00:00:00\",\"2018-04-09T00:00:00\",\"2018-04-10T00:00:00\",\"2018-04-11T00:00:00\",\"2018-04-12T00:00:00\",\"2018-04-13T00:00:00\",\"2018-04-14T00:00:00\",\"2018-04-15T00:00:00\",\"2018-04-16T00:00:00\",\"2018-04-17T00:00:00\",\"2018-04-18T00:00:00\",\"2018-04-19T00:00:00\",\"2018-04-20T00:00:00\",\"2018-04-21T00:00:00\",\"2018-04-22T00:00:00\",\"2018-04-23T00:00:00\",\"2018-04-24T00:00:00\",\"2018-04-25T00:00:00\",\"2018-04-26T00:00:00\",\"2018-04-27T00:00:00\",\"2018-04-28T00:00:00\",\"2018-04-29T00:00:00\",\"2018-04-30T00:00:00\",\"2018-05-01T00:00:00\",\"2018-05-02T00:00:00\",\"2018-05-03T00:00:00\",\"2018-05-04T00:00:00\",\"2018-05-05T00:00:00\",\"2018-05-06T00:00:00\",\"2018-05-07T00:00:00\",\"2018-05-08T00:00:00\",\"2018-05-09T00:00:00\",\"2018-05-10T00:00:00\",\"2018-05-11T00:00:00\",\"2018-05-12T00:00:00\",\"2018-05-13T00:00:00\",\"2018-05-14T00:00:00\",\"2018-05-15T00:00:00\",\"2018-05-16T00:00:00\",\"2018-05-17T00:00:00\",\"2018-05-18T00:00:00\",\"2018-05-19T00:00:00\",\"2018-05-20T00:00:00\",\"2018-05-21T00:00:00\",\"2018-05-22T00:00:00\",\"2018-05-23T00:00:00\",\"2018-05-24T00:00:00\",\"2018-05-25T00:00:00\",\"2018-05-26T00:00:00\",\"2018-05-27T00:00:00\",\"2018-05-28T00:00:00\",\"2018-05-29T00:00:00\",\"2018-05-30T00:00:00\",\"2018-05-31T00:00:00\",\"2018-06-01T00:00:00\",\"2018-06-02T00:00:00\",\"2018-06-03T00:00:00\",\"2018-06-04T00:00:00\",\"2018-06-05T00:00:00\",\"2018-06-06T00:00:00\",\"2018-06-07T00:00:00\",\"2018-06-08T00:00:00\",\"2018-06-09T00:00:00\",\"2018-06-10T00:00:00\",\"2018-06-11T00:00:00\",\"2018-06-12T00:00:00\",\"2018-06-13T00:00:00\",\"2018-06-14T00:00:00\",\"2018-06-15T00:00:00\",\"2018-06-16T00:00:00\",\"2018-06-17T00:00:00\",\"2018-06-18T00:00:00\",\"2018-06-19T00:00:00\",\"2018-06-20T00:00:00\",\"2018-06-21T00:00:00\",\"2018-06-22T00:00:00\",\"2018-06-23T00:00:00\",\"2018-06-24T00:00:00\",\"2018-06-25T00:00:00\",\"2018-06-26T00:00:00\",\"2018-06-27T00:00:00\",\"2018-06-28T00:00:00\",\"2018-06-29T00:00:00\",\"2018-06-30T00:00:00\",\"2018-07-01T00:00:00\",\"2018-07-02T00:00:00\",\"2018-07-03T00:00:00\",\"2018-07-04T00:00:00\",\"2018-07-05T00:00:00\",\"2018-07-06T00:00:00\",\"2018-07-07T00:00:00\",\"2018-07-08T00:00:00\",\"2018-07-09T00:00:00\",\"2018-07-10T00:00:00\",\"2018-07-11T00:00:00\",\"2018-07-12T00:00:00\",\"2018-07-13T00:00:00\",\"2018-07-14T00:00:00\",\"2018-07-15T00:00:00\",\"2018-07-16T00:00:00\",\"2018-07-17T00:00:00\",\"2018-07-18T00:00:00\",\"2018-07-19T00:00:00\",\"2018-07-20T00:00:00\",\"2018-07-21T00:00:00\",\"2018-07-22T00:00:00\",\"2018-07-23T00:00:00\",\"2018-07-24T00:00:00\",\"2018-07-25T00:00:00\",\"2018-07-26T00:00:00\",\"2018-07-27T00:00:00\",\"2018-07-28T00:00:00\",\"2018-07-29T00:00:00\",\"2018-07-30T00:00:00\",\"2018-07-31T00:00:00\",\"2018-08-01T00:00:00\",\"2018-08-02T00:00:00\",\"2018-08-03T00:00:00\",\"2018-08-04T00:00:00\",\"2018-08-05T00:00:00\",\"2018-08-06T00:00:00\",\"2018-08-07T00:00:00\",\"2018-08-08T00:00:00\",\"2018-08-09T00:00:00\",\"2018-08-10T00:00:00\",\"2018-08-11T00:00:00\",\"2018-08-12T00:00:00\",\"2018-08-13T00:00:00\",\"2018-08-14T00:00:00\",\"2018-08-15T00:00:00\",\"2018-08-16T00:00:00\",\"2018-08-17T00:00:00\",\"2018-08-18T00:00:00\",\"2018-08-19T00:00:00\",\"2018-08-20T00:00:00\",\"2018-08-21T00:00:00\",\"2018-08-22T00:00:00\",\"2018-08-23T00:00:00\",\"2018-08-24T00:00:00\",\"2018-08-25T00:00:00\",\"2018-08-26T00:00:00\",\"2018-08-27T00:00:00\",\"2018-08-28T00:00:00\",\"2018-08-29T00:00:00\",\"2018-08-30T00:00:00\",\"2018-08-31T00:00:00\",\"2018-09-01T00:00:00\",\"2018-09-02T00:00:00\",\"2018-09-03T00:00:00\",\"2018-09-04T00:00:00\",\"2018-09-05T00:00:00\",\"2018-09-06T00:00:00\",\"2018-09-07T00:00:00\",\"2018-09-08T00:00:00\",\"2018-09-09T00:00:00\",\"2018-09-10T00:00:00\",\"2018-09-11T00:00:00\",\"2018-09-12T00:00:00\",\"2018-09-13T00:00:00\",\"2018-09-14T00:00:00\",\"2018-09-15T00:00:00\",\"2018-09-16T00:00:00\",\"2018-09-17T00:00:00\",\"2018-09-18T00:00:00\",\"2018-09-19T00:00:00\",\"2018-09-20T00:00:00\",\"2018-09-21T00:00:00\",\"2018-09-22T00:00:00\",\"2018-09-23T00:00:00\",\"2018-09-24T00:00:00\",\"2018-09-25T00:00:00\",\"2018-09-26T00:00:00\",\"2018-09-27T00:00:00\",\"2018-09-28T00:00:00\",\"2018-09-29T00:00:00\",\"2018-09-30T00:00:00\",\"2018-10-01T00:00:00\",\"2018-10-02T00:00:00\",\"2018-10-03T00:00:00\",\"2018-10-04T00:00:00\",\"2018-10-05T00:00:00\",\"2018-10-06T00:00:00\",\"2018-10-07T00:00:00\",\"2018-10-08T00:00:00\",\"2018-10-09T00:00:00\",\"2018-10-10T00:00:00\",\"2018-10-11T00:00:00\",\"2018-10-12T00:00:00\",\"2018-10-13T00:00:00\",\"2018-10-14T00:00:00\",\"2018-10-15T00:00:00\",\"2018-10-16T00:00:00\",\"2018-10-17T00:00:00\",\"2018-10-18T00:00:00\",\"2018-10-19T00:00:00\",\"2018-10-20T00:00:00\",\"2018-10-21T00:00:00\",\"2018-10-22T00:00:00\",\"2018-10-23T00:00:00\",\"2018-10-24T00:00:00\",\"2018-10-25T00:00:00\",\"2018-10-26T00:00:00\",\"2018-10-27T00:00:00\",\"2018-10-28T00:00:00\",\"2018-10-29T00:00:00\",\"2018-10-30T00:00:00\",\"2018-10-31T00:00:00\",\"2018-11-01T00:00:00\",\"2018-11-02T00:00:00\",\"2018-11-03T00:00:00\",\"2018-11-04T00:00:00\",\"2018-11-05T00:00:00\",\"2018-11-06T00:00:00\",\"2018-11-07T00:00:00\",\"2018-11-08T00:00:00\",\"2018-11-09T00:00:00\",\"2018-11-10T00:00:00\",\"2018-11-11T00:00:00\",\"2018-11-12T00:00:00\",\"2018-11-13T00:00:00\",\"2018-11-14T00:00:00\",\"2018-11-15T00:00:00\",\"2018-11-16T00:00:00\",\"2018-11-17T00:00:00\",\"2018-11-18T00:00:00\",\"2018-11-19T00:00:00\",\"2018-11-20T00:00:00\",\"2018-11-21T00:00:00\",\"2018-11-22T00:00:00\",\"2018-11-23T00:00:00\",\"2018-11-24T00:00:00\",\"2018-11-25T00:00:00\",\"2018-11-26T00:00:00\",\"2018-11-27T00:00:00\",\"2018-11-28T00:00:00\",\"2018-11-29T00:00:00\",\"2018-11-30T00:00:00\",\"2018-12-01T00:00:00\",\"2018-12-02T00:00:00\",\"2018-12-03T00:00:00\",\"2018-12-04T00:00:00\",\"2018-12-05T00:00:00\",\"2018-12-06T00:00:00\",\"2018-12-07T00:00:00\",\"2018-12-08T00:00:00\",\"2018-12-09T00:00:00\",\"2018-12-10T00:00:00\",\"2018-12-11T00:00:00\",\"2018-12-12T00:00:00\",\"2018-12-13T00:00:00\",\"2018-12-14T00:00:00\",\"2018-12-15T00:00:00\",\"2018-12-16T00:00:00\",\"2018-12-17T00:00:00\",\"2018-12-18T00:00:00\",\"2018-12-19T00:00:00\",\"2018-12-20T00:00:00\",\"2018-12-21T00:00:00\",\"2018-12-22T00:00:00\",\"2018-12-23T00:00:00\",\"2018-12-24T00:00:00\",\"2018-12-25T00:00:00\",\"2018-12-26T00:00:00\",\"2018-12-27T00:00:00\",\"2018-12-28T00:00:00\",\"2018-12-29T00:00:00\",\"2018-12-30T00:00:00\",\"2018-12-31T00:00:00\",\"2019-01-01T00:00:00\",\"2019-01-02T00:00:00\",\"2019-01-03T00:00:00\",\"2019-01-04T00:00:00\",\"2019-01-05T00:00:00\",\"2019-01-06T00:00:00\",\"2019-01-07T00:00:00\",\"2019-01-08T00:00:00\",\"2019-01-09T00:00:00\",\"2019-01-10T00:00:00\",\"2019-01-11T00:00:00\",\"2019-01-12T00:00:00\",\"2019-01-13T00:00:00\",\"2019-01-14T00:00:00\",\"2019-01-15T00:00:00\",\"2019-01-16T00:00:00\",\"2019-01-17T00:00:00\",\"2019-01-18T00:00:00\",\"2019-01-19T00:00:00\",\"2019-01-20T00:00:00\",\"2019-01-21T00:00:00\",\"2019-01-22T00:00:00\",\"2019-01-23T00:00:00\",\"2019-01-24T00:00:00\",\"2019-01-25T00:00:00\",\"2019-01-26T00:00:00\",\"2019-01-27T00:00:00\",\"2019-01-28T00:00:00\",\"2019-01-29T00:00:00\",\"2019-01-30T00:00:00\",\"2019-01-31T00:00:00\",\"2019-02-01T00:00:00\",\"2019-02-02T00:00:00\",\"2019-02-03T00:00:00\",\"2019-02-04T00:00:00\",\"2019-02-05T00:00:00\",\"2019-02-06T00:00:00\",\"2019-02-07T00:00:00\",\"2019-02-08T00:00:00\",\"2019-02-09T00:00:00\",\"2019-02-10T00:00:00\",\"2019-02-11T00:00:00\",\"2019-02-12T00:00:00\",\"2019-02-13T00:00:00\",\"2019-02-14T00:00:00\",\"2019-02-15T00:00:00\",\"2019-02-16T00:00:00\",\"2019-02-17T00:00:00\",\"2019-02-18T00:00:00\",\"2019-02-19T00:00:00\",\"2019-02-20T00:00:00\",\"2019-02-21T00:00:00\",\"2019-02-22T00:00:00\",\"2019-02-23T00:00:00\",\"2019-02-24T00:00:00\",\"2019-02-25T00:00:00\",\"2019-02-26T00:00:00\",\"2019-02-27T00:00:00\",\"2019-02-28T00:00:00\",\"2019-03-01T00:00:00\",\"2019-03-02T00:00:00\",\"2019-03-03T00:00:00\",\"2019-03-04T00:00:00\",\"2019-03-05T00:00:00\",\"2019-03-06T00:00:00\",\"2019-03-07T00:00:00\",\"2019-03-08T00:00:00\",\"2019-03-09T00:00:00\",\"2019-03-10T00:00:00\",\"2019-03-11T00:00:00\",\"2019-03-12T00:00:00\",\"2019-03-13T00:00:00\",\"2019-03-14T00:00:00\",\"2019-03-15T00:00:00\",\"2019-03-16T00:00:00\",\"2019-03-17T00:00:00\",\"2019-03-18T00:00:00\",\"2019-03-19T00:00:00\",\"2019-03-20T00:00:00\",\"2019-03-21T00:00:00\",\"2019-03-22T00:00:00\",\"2019-03-23T00:00:00\",\"2019-03-24T00:00:00\",\"2019-03-25T00:00:00\",\"2019-03-26T00:00:00\",\"2019-03-27T00:00:00\",\"2019-03-28T00:00:00\",\"2019-03-29T00:00:00\",\"2019-03-30T00:00:00\",\"2019-03-31T00:00:00\",\"2019-04-01T00:00:00\",\"2019-04-02T00:00:00\",\"2019-04-03T00:00:00\",\"2019-04-04T00:00:00\",\"2019-04-05T00:00:00\",\"2019-04-06T00:00:00\",\"2019-04-07T00:00:00\",\"2019-04-08T00:00:00\",\"2019-04-09T00:00:00\",\"2019-04-10T00:00:00\",\"2019-04-11T00:00:00\",\"2019-04-12T00:00:00\",\"2019-04-13T00:00:00\",\"2019-04-14T00:00:00\",\"2019-04-15T00:00:00\",\"2019-04-16T00:00:00\",\"2019-04-17T00:00:00\",\"2019-04-18T00:00:00\",\"2019-04-19T00:00:00\",\"2019-04-20T00:00:00\",\"2019-04-21T00:00:00\",\"2019-04-22T00:00:00\",\"2019-04-23T00:00:00\",\"2019-04-24T00:00:00\",\"2019-04-25T00:00:00\",\"2019-04-26T00:00:00\",\"2019-04-27T00:00:00\",\"2019-04-28T00:00:00\",\"2019-04-29T00:00:00\",\"2019-04-30T00:00:00\",\"2019-05-01T00:00:00\",\"2019-05-02T00:00:00\",\"2019-05-03T00:00:00\",\"2019-05-04T00:00:00\",\"2019-05-05T00:00:00\",\"2019-05-06T00:00:00\",\"2019-05-07T00:00:00\",\"2019-05-08T00:00:00\",\"2019-05-09T00:00:00\",\"2019-05-10T00:00:00\",\"2019-05-11T00:00:00\",\"2019-05-12T00:00:00\",\"2019-05-13T00:00:00\",\"2019-05-14T00:00:00\",\"2019-05-15T00:00:00\",\"2019-05-16T00:00:00\",\"2019-05-17T00:00:00\",\"2019-05-18T00:00:00\",\"2019-05-19T00:00:00\",\"2019-05-20T00:00:00\",\"2019-05-21T00:00:00\",\"2019-05-22T00:00:00\",\"2019-05-23T00:00:00\",\"2019-05-24T00:00:00\",\"2019-05-25T00:00:00\",\"2019-05-26T00:00:00\",\"2019-05-27T00:00:00\",\"2019-05-28T00:00:00\",\"2019-05-29T00:00:00\",\"2019-05-30T00:00:00\",\"2019-05-31T00:00:00\",\"2019-06-01T00:00:00\",\"2019-06-02T00:00:00\",\"2019-06-03T00:00:00\",\"2019-06-04T00:00:00\",\"2019-06-05T00:00:00\",\"2019-06-06T00:00:00\",\"2019-06-07T00:00:00\",\"2019-06-08T00:00:00\",\"2019-06-09T00:00:00\",\"2019-06-10T00:00:00\",\"2019-06-11T00:00:00\",\"2019-06-12T00:00:00\",\"2019-06-13T00:00:00\",\"2019-06-14T00:00:00\",\"2019-06-15T00:00:00\",\"2019-06-16T00:00:00\",\"2019-06-17T00:00:00\",\"2019-06-18T00:00:00\",\"2019-06-19T00:00:00\",\"2019-06-20T00:00:00\",\"2019-06-21T00:00:00\",\"2019-06-22T00:00:00\",\"2019-06-23T00:00:00\",\"2019-06-24T00:00:00\",\"2019-06-25T00:00:00\",\"2019-06-26T00:00:00\",\"2019-06-27T00:00:00\",\"2019-06-28T00:00:00\",\"2019-06-29T00:00:00\",\"2019-06-30T00:00:00\",\"2019-07-01T00:00:00\",\"2019-07-02T00:00:00\",\"2019-07-03T00:00:00\",\"2019-07-04T00:00:00\",\"2019-07-05T00:00:00\",\"2019-07-06T00:00:00\",\"2019-07-07T00:00:00\",\"2019-07-08T00:00:00\",\"2019-07-09T00:00:00\",\"2019-07-10T00:00:00\",\"2019-07-11T00:00:00\",\"2019-07-12T00:00:00\",\"2019-07-13T00:00:00\",\"2019-07-14T00:00:00\",\"2019-07-15T00:00:00\",\"2019-07-16T00:00:00\",\"2019-07-17T00:00:00\",\"2019-07-18T00:00:00\",\"2019-07-19T00:00:00\",\"2019-07-20T00:00:00\",\"2019-07-21T00:00:00\",\"2019-07-22T00:00:00\",\"2019-07-23T00:00:00\",\"2019-07-24T00:00:00\",\"2019-07-25T00:00:00\",\"2019-07-26T00:00:00\",\"2019-07-27T00:00:00\",\"2019-07-28T00:00:00\",\"2019-07-29T00:00:00\",\"2019-07-30T00:00:00\",\"2019-07-31T00:00:00\",\"2019-08-01T00:00:00\",\"2019-08-02T00:00:00\",\"2019-08-03T00:00:00\",\"2019-08-04T00:00:00\",\"2019-08-05T00:00:00\",\"2019-08-06T00:00:00\",\"2019-08-07T00:00:00\",\"2019-08-08T00:00:00\",\"2019-08-09T00:00:00\",\"2019-08-10T00:00:00\",\"2019-08-11T00:00:00\",\"2019-08-12T00:00:00\",\"2019-08-13T00:00:00\",\"2019-08-14T00:00:00\",\"2019-08-15T00:00:00\",\"2019-08-16T00:00:00\",\"2019-08-17T00:00:00\",\"2019-08-18T00:00:00\",\"2019-08-19T00:00:00\",\"2019-08-20T00:00:00\",\"2019-08-21T00:00:00\",\"2019-08-22T00:00:00\",\"2019-08-23T00:00:00\",\"2019-08-24T00:00:00\",\"2019-08-25T00:00:00\",\"2019-08-26T00:00:00\",\"2019-08-27T00:00:00\",\"2019-08-28T00:00:00\",\"2019-08-29T00:00:00\",\"2019-08-30T00:00:00\",\"2019-08-31T00:00:00\",\"2019-09-01T00:00:00\",\"2019-09-02T00:00:00\",\"2019-09-03T00:00:00\",\"2019-09-04T00:00:00\",\"2019-09-05T00:00:00\",\"2019-09-06T00:00:00\",\"2019-09-07T00:00:00\",\"2019-09-08T00:00:00\",\"2019-09-09T00:00:00\",\"2019-09-10T00:00:00\",\"2019-09-11T00:00:00\",\"2019-09-12T00:00:00\",\"2019-09-13T00:00:00\",\"2019-09-14T00:00:00\",\"2019-09-15T00:00:00\",\"2019-09-16T00:00:00\",\"2019-09-17T00:00:00\",\"2019-09-18T00:00:00\",\"2019-09-19T00:00:00\",\"2019-09-20T00:00:00\",\"2019-09-21T00:00:00\",\"2019-09-22T00:00:00\",\"2019-09-23T00:00:00\",\"2019-09-24T00:00:00\",\"2019-09-25T00:00:00\",\"2019-09-26T00:00:00\",\"2019-09-27T00:00:00\",\"2019-09-28T00:00:00\",\"2019-09-29T00:00:00\",\"2019-09-30T00:00:00\",\"2019-10-01T00:00:00\",\"2019-10-02T00:00:00\",\"2019-10-03T00:00:00\",\"2019-10-04T00:00:00\",\"2019-10-05T00:00:00\",\"2019-10-06T00:00:00\",\"2019-10-07T00:00:00\",\"2019-10-08T00:00:00\",\"2019-10-09T00:00:00\",\"2019-10-10T00:00:00\",\"2019-10-11T00:00:00\",\"2019-10-12T00:00:00\",\"2019-10-13T00:00:00\",\"2019-10-14T00:00:00\",\"2019-10-15T00:00:00\",\"2019-10-16T00:00:00\",\"2019-10-17T00:00:00\",\"2019-10-18T00:00:00\",\"2019-10-19T00:00:00\",\"2019-10-20T00:00:00\",\"2019-10-21T00:00:00\",\"2019-10-22T00:00:00\",\"2019-10-23T00:00:00\",\"2019-10-24T00:00:00\",\"2019-10-25T00:00:00\",\"2019-10-26T00:00:00\",\"2019-10-27T00:00:00\",\"2019-10-28T00:00:00\",\"2019-10-29T00:00:00\",\"2019-10-30T00:00:00\",\"2019-10-31T00:00:00\",\"2019-11-01T00:00:00\",\"2019-11-02T00:00:00\",\"2019-11-03T00:00:00\",\"2019-11-04T00:00:00\",\"2019-11-05T00:00:00\",\"2019-11-06T00:00:00\",\"2019-11-07T00:00:00\",\"2019-11-08T00:00:00\",\"2019-11-09T00:00:00\",\"2019-11-10T00:00:00\",\"2019-11-11T00:00:00\",\"2019-11-12T00:00:00\",\"2019-11-13T00:00:00\",\"2019-11-14T00:00:00\",\"2019-11-15T00:00:00\",\"2019-11-16T00:00:00\",\"2019-11-17T00:00:00\",\"2019-11-18T00:00:00\",\"2019-11-19T00:00:00\",\"2019-11-20T00:00:00\",\"2019-11-21T00:00:00\",\"2019-11-22T00:00:00\",\"2019-11-23T00:00:00\",\"2019-11-24T00:00:00\",\"2019-11-25T00:00:00\",\"2019-11-26T00:00:00\",\"2019-11-27T00:00:00\",\"2019-11-28T00:00:00\",\"2019-11-29T00:00:00\",\"2019-11-30T00:00:00\",\"2019-12-01T00:00:00\",\"2019-12-02T00:00:00\",\"2019-12-03T00:00:00\",\"2019-12-04T00:00:00\",\"2019-12-05T00:00:00\",\"2019-12-06T00:00:00\",\"2019-12-07T00:00:00\",\"2019-12-08T00:00:00\",\"2019-12-09T00:00:00\",\"2019-12-10T00:00:00\",\"2019-12-11T00:00:00\",\"2019-12-12T00:00:00\",\"2019-12-13T00:00:00\",\"2019-12-14T00:00:00\",\"2019-12-15T00:00:00\",\"2019-12-16T00:00:00\",\"2019-12-17T00:00:00\",\"2019-12-18T00:00:00\",\"2019-12-19T00:00:00\",\"2019-12-20T00:00:00\",\"2019-12-21T00:00:00\",\"2019-12-22T00:00:00\",\"2019-12-23T00:00:00\",\"2019-12-24T00:00:00\",\"2019-12-25T00:00:00\",\"2019-12-26T00:00:00\",\"2019-12-27T00:00:00\",\"2019-12-28T00:00:00\",\"2019-12-29T00:00:00\",\"2019-12-30T00:00:00\",\"2019-12-31T00:00:00\",\"2020-01-01T00:00:00\",\"2020-01-02T00:00:00\",\"2020-01-03T00:00:00\",\"2020-01-04T00:00:00\",\"2020-01-05T00:00:00\",\"2020-01-06T00:00:00\",\"2020-01-07T00:00:00\",\"2020-01-08T00:00:00\",\"2020-01-09T00:00:00\",\"2020-01-10T00:00:00\",\"2020-01-11T00:00:00\",\"2020-01-12T00:00:00\",\"2020-01-13T00:00:00\",\"2020-01-14T00:00:00\",\"2020-01-15T00:00:00\",\"2020-01-16T00:00:00\",\"2020-01-17T00:00:00\",\"2020-01-18T00:00:00\",\"2020-01-19T00:00:00\",\"2020-01-20T00:00:00\",\"2020-01-21T00:00:00\",\"2020-01-22T00:00:00\",\"2020-01-23T00:00:00\",\"2020-01-24T00:00:00\",\"2020-01-25T00:00:00\",\"2020-01-26T00:00:00\",\"2020-01-27T00:00:00\",\"2020-01-28T00:00:00\",\"2020-01-29T00:00:00\",\"2020-01-30T00:00:00\",\"2020-01-31T00:00:00\"],\"xaxis\":\"x\",\"y\":[98030,79061,94638,77176,101246,160351,214468,136225,118926,158263,161556,94761,255866,283469,187193,187357,70259,75322,105512,136838,209243,128564,80647,75910,83918,80906,106632,195037,116491,69947,70069,69990,83050,119610,192490,101940,73034,67529,132437,170113,205986,275867,177264,122151,58643,53147,70711,107500,293530,114904,94560,80921,87577,97468,150378,176248,12901,85874,73973,78349,81396,104381,199183,95672,60838,63903,65965,69953,96427,143165,97218,66251,79475,78212,84553,116910,173957,111026,87223,65080,70086,84423,122292,185755,112467,87761,78593,82314,92080,125824,171737,133496,76889,73211,79023,88800,157141,179797,100382,75562,83244,91010,95504,120122,168068,110943,83485,82824,246397,153887,192073,237872,169101,210782,77558,90444,105692,105597,145942,99170,187286,154864,141411,136763,166304,198960,133315,110657,103520,103988,105184,133858,167962,88898,102077,97343,98946,102459,129881,165583,103557,88689,89258,92383,95064,145806,148487,93380,87836,89176,71711,88622,106917,123908,82022,74944,80444,79693,364130,194225,229449,161168,83117,82838,83928,87934,122010,166550,110648,99457,97507,98316,104631,172072,172251,113742,100781,106724,102662,121398,355631,191462,118040,94084,93907,94961,96483,124633,172018,116340,93746,91132,90443,93218,121174,166295,139061,102647,77610,78419,78086,101839,146196,101107,71763,71884,146296,133129,191369,247309,164559,201104,57865,58436,77243,98915,145883,93995,67559,77840,67138,71224,101269,149379,100670,74747,83005,112723,73269,167038,156790,101994,76825,78197,77829,79763,113653,164310,111956,61769,61598,63248,163039,285104,281035,165336,146533,62242,65350,69944,119385,141782,92239,62892,65994,65564,75093,135667,145599,92573,61600,58838,62449,70760,103461,154579,91051,65666,128600,57569,66808,142317,227515,116504,73128,81936,66752,126156,204335,299843,191513,174065,60518,68301,65072,138620,163486,113335,81687,81898,106816,9158,636074,331169,198339,109179,75089,93845,172943,251749,355019,208868,159100,97877,104716,105711,149714,226956,148055,103101,117499,121394,132797,186606,278755,216000,186556,152817,165312,188380,251942,376922,347947,229262,2730,290021,227890,354818,341467,223787,172650,134481,145492,136078,152993,199789,120816,89132,80301,78892,80994,102851,147714,92767,63326,67718,68987,71747,100607,145976,111004,121898,58271,62468,67197,97372,157439,96203,58292,55735,56580,73875,88841,158278,87314,65331,70364,78205,69159,104412,175970,130922,80956,80845,130350,184250,178632,273073,169154,171645,59137,57461,77488,143072,174905,103289,66549,67427,87186,91476,121964,197434,115270,74914,71583,75519,83504,117536,192053,104921,80119,79907,87316,102771,270013,272242,149164,110865,58179,57930,61853,87895,150124,88488,62804,63896,67865,70704,151975,226635,119422,60201,59249,62723,67860,93591,142442,87469,57678,58322,62159,66186,94703,150645,96764,76822,81425,83388,91825,186759,221042,18197,104992,87320,96178,126876,116407,170727,106104,77563,70198,69797,73833,100175,148755,94426,68785,70766,74945,82240,136978,207437,119899,84665,69132,74480,75528,139311,142586,93957,78653,64298,183918,113828,143393,182500,124521,153302,59262,62324,69851,97481,111717,79797,181025,141202,133278,163876,159686,193203,126040,108571,100766,99077,104428,128886,158107,86495,89605,85676,85519,89967,114198,135896,89573,80001,82957,82517,86552,111062,139240,94680,80401,80343,87642,67319,148951,163357,82330,75128,70920,216268,143771,148471,181669,125763,72222,72500,73032,78857,97681,124561,99922,88946,88418,94313,95543,150338,158164,104178,94338,93684,89459,106837,244880,165840,103878,87977,83376,80668,84760,123037,159228,101172,82965,83567,97271,97475,122988,190214,115514,91475,75340,76174,79059,102113,152406,95710,70055,63095,114040,108638,178791,232066,155508,192907,87213,64662,77740,101509,148882,91715,58366,58420,61121,69720,96292,151142,103992,68696,59523,62894,66387,240621,278612,186864,62846,71628,76963,108377,149730,167471,111357,90070,69920,105178,116492,173861,234785,123164,81252,77238,103202,108368,152456,220886,144822,132413,63530,65149,74672,104344,147085,103740,57296,58813,59975,86792,128866,179027,121847,72938,94754,78417,57923,89600,154583,99248,60091,92018,106435,110066,164826,259826,173691,151148,86529,65271,84562,152048,253437,157949,82137,64374,74059,78998,126740,204957,176532,99229,82858,111258,1754,608225,256271,123178,80848,68054,103008,137612,180661,296200,193000,108478,100417,107817,117932,167838,269801,182926,136254,156170,186313,208218,259666,339697,280735,304995,207151,3059,354117,303416,303203,185699,200685,141230,122016,142805,153719,205926,127373,94202,84345,84007,84846,104436,156316,107463,70873,69122,72281,75552,99497,140723,102294,105429,56992,56877,62675,86171,137923,89825,56513,56219,56609,69338,106985],\"yaxis\":\"y\",\"type\":\"scatter\"}],                        {\"template\":{\"data\":{\"bar\":[{\"error_x\":{\"color\":\"#2a3f5f\"},\"error_y\":{\"color\":\"#2a3f5f\"},\"marker\":{\"line\":{\"color\":\"#E5ECF6\",\"width\":0.5},\"pattern\":{\"fillmode\":\"overlay\",\"size\":10,\"solidity\":0.2}},\"type\":\"bar\"}],\"barpolar\":[{\"marker\":{\"line\":{\"color\":\"#E5ECF6\",\"width\":0.5},\"pattern\":{\"fillmode\":\"overlay\",\"size\":10,\"solidity\":0.2}},\"type\":\"barpolar\"}],\"carpet\":[{\"aaxis\":{\"endlinecolor\":\"#2a3f5f\",\"gridcolor\":\"white\",\"linecolor\":\"white\",\"minorgridcolor\":\"white\",\"startlinecolor\":\"#2a3f5f\"},\"baxis\":{\"endlinecolor\":\"#2a3f5f\",\"gridcolor\":\"white\",\"linecolor\":\"white\",\"minorgridcolor\":\"white\",\"startlinecolor\":\"#2a3f5f\"},\"type\":\"carpet\"}],\"choropleth\":[{\"colorbar\":{\"outlinewidth\":0,\"ticks\":\"\"},\"type\":\"choropleth\"}],\"contour\":[{\"colorbar\":{\"outlinewidth\":0,\"ticks\":\"\"},\"colorscale\":[[0.0,\"#0d0887\"],[0.1111111111111111,\"#46039f\"],[0.2222222222222222,\"#7201a8\"],[0.3333333333333333,\"#9c179e\"],[0.4444444444444444,\"#bd3786\"],[0.5555555555555556,\"#d8576b\"],[0.6666666666666666,\"#ed7953\"],[0.7777777777777778,\"#fb9f3a\"],[0.8888888888888888,\"#fdca26\"],[1.0,\"#f0f921\"]],\"type\":\"contour\"}],\"contourcarpet\":[{\"colorbar\":{\"outlinewidth\":0,\"ticks\":\"\"},\"type\":\"contourcarpet\"}],\"heatmap\":[{\"colorbar\":{\"outlinewidth\":0,\"ticks\":\"\"},\"colorscale\":[[0.0,\"#0d0887\"],[0.1111111111111111,\"#46039f\"],[0.2222222222222222,\"#7201a8\"],[0.3333333333333333,\"#9c179e\"],[0.4444444444444444,\"#bd3786\"],[0.5555555555555556,\"#d8576b\"],[0.6666666666666666,\"#ed7953\"],[0.7777777777777778,\"#fb9f3a\"],[0.8888888888888888,\"#fdca26\"],[1.0,\"#f0f921\"]],\"type\":\"heatmap\"}],\"heatmapgl\":[{\"colorbar\":{\"outlinewidth\":0,\"ticks\":\"\"},\"colorscale\":[[0.0,\"#0d0887\"],[0.1111111111111111,\"#46039f\"],[0.2222222222222222,\"#7201a8\"],[0.3333333333333333,\"#9c179e\"],[0.4444444444444444,\"#bd3786\"],[0.5555555555555556,\"#d8576b\"],[0.6666666666666666,\"#ed7953\"],[0.7777777777777778,\"#fb9f3a\"],[0.8888888888888888,\"#fdca26\"],[1.0,\"#f0f921\"]],\"type\":\"heatmapgl\"}],\"histogram\":[{\"marker\":{\"pattern\":{\"fillmode\":\"overlay\",\"size\":10,\"solidity\":0.2}},\"type\":\"histogram\"}],\"histogram2d\":[{\"colorbar\":{\"outlinewidth\":0,\"ticks\":\"\"},\"colorscale\":[[0.0,\"#0d0887\"],[0.1111111111111111,\"#46039f\"],[0.2222222222222222,\"#7201a8\"],[0.3333333333333333,\"#9c179e\"],[0.4444444444444444,\"#bd3786\"],[0.5555555555555556,\"#d8576b\"],[0.6666666666666666,\"#ed7953\"],[0.7777777777777778,\"#fb9f3a\"],[0.8888888888888888,\"#fdca26\"],[1.0,\"#f0f921\"]],\"type\":\"histogram2d\"}],\"histogram2dcontour\":[{\"colorbar\":{\"outlinewidth\":0,\"ticks\":\"\"},\"colorscale\":[[0.0,\"#0d0887\"],[0.1111111111111111,\"#46039f\"],[0.2222222222222222,\"#7201a8\"],[0.3333333333333333,\"#9c179e\"],[0.4444444444444444,\"#bd3786\"],[0.5555555555555556,\"#d8576b\"],[0.6666666666666666,\"#ed7953\"],[0.7777777777777778,\"#fb9f3a\"],[0.8888888888888888,\"#fdca26\"],[1.0,\"#f0f921\"]],\"type\":\"histogram2dcontour\"}],\"mesh3d\":[{\"colorbar\":{\"outlinewidth\":0,\"ticks\":\"\"},\"type\":\"mesh3d\"}],\"parcoords\":[{\"line\":{\"colorbar\":{\"outlinewidth\":0,\"ticks\":\"\"}},\"type\":\"parcoords\"}],\"pie\":[{\"automargin\":true,\"type\":\"pie\"}],\"scatter\":[{\"marker\":{\"colorbar\":{\"outlinewidth\":0,\"ticks\":\"\"}},\"type\":\"scatter\"}],\"scatter3d\":[{\"line\":{\"colorbar\":{\"outlinewidth\":0,\"ticks\":\"\"}},\"marker\":{\"colorbar\":{\"outlinewidth\":0,\"ticks\":\"\"}},\"type\":\"scatter3d\"}],\"scattercarpet\":[{\"marker\":{\"colorbar\":{\"outlinewidth\":0,\"ticks\":\"\"}},\"type\":\"scattercarpet\"}],\"scattergeo\":[{\"marker\":{\"colorbar\":{\"outlinewidth\":0,\"ticks\":\"\"}},\"type\":\"scattergeo\"}],\"scattergl\":[{\"marker\":{\"colorbar\":{\"outlinewidth\":0,\"ticks\":\"\"}},\"type\":\"scattergl\"}],\"scattermapbox\":[{\"marker\":{\"colorbar\":{\"outlinewidth\":0,\"ticks\":\"\"}},\"type\":\"scattermapbox\"}],\"scatterpolar\":[{\"marker\":{\"colorbar\":{\"outlinewidth\":0,\"ticks\":\"\"}},\"type\":\"scatterpolar\"}],\"scatterpolargl\":[{\"marker\":{\"colorbar\":{\"outlinewidth\":0,\"ticks\":\"\"}},\"type\":\"scatterpolargl\"}],\"scatterternary\":[{\"marker\":{\"colorbar\":{\"outlinewidth\":0,\"ticks\":\"\"}},\"type\":\"scatterternary\"}],\"surface\":[{\"colorbar\":{\"outlinewidth\":0,\"ticks\":\"\"},\"colorscale\":[[0.0,\"#0d0887\"],[0.1111111111111111,\"#46039f\"],[0.2222222222222222,\"#7201a8\"],[0.3333333333333333,\"#9c179e\"],[0.4444444444444444,\"#bd3786\"],[0.5555555555555556,\"#d8576b\"],[0.6666666666666666,\"#ed7953\"],[0.7777777777777778,\"#fb9f3a\"],[0.8888888888888888,\"#fdca26\"],[1.0,\"#f0f921\"]],\"type\":\"surface\"}],\"table\":[{\"cells\":{\"fill\":{\"color\":\"#EBF0F8\"},\"line\":{\"color\":\"white\"}},\"header\":{\"fill\":{\"color\":\"#C8D4E3\"},\"line\":{\"color\":\"white\"}},\"type\":\"table\"}]},\"layout\":{\"annotationdefaults\":{\"arrowcolor\":\"#2a3f5f\",\"arrowhead\":0,\"arrowwidth\":1},\"autotypenumbers\":\"strict\",\"coloraxis\":{\"colorbar\":{\"outlinewidth\":0,\"ticks\":\"\"}},\"colorscale\":{\"diverging\":[[0,\"#8e0152\"],[0.1,\"#c51b7d\"],[0.2,\"#de77ae\"],[0.3,\"#f1b6da\"],[0.4,\"#fde0ef\"],[0.5,\"#f7f7f7\"],[0.6,\"#e6f5d0\"],[0.7,\"#b8e186\"],[0.8,\"#7fbc41\"],[0.9,\"#4d9221\"],[1,\"#276419\"]],\"sequential\":[[0.0,\"#0d0887\"],[0.1111111111111111,\"#46039f\"],[0.2222222222222222,\"#7201a8\"],[0.3333333333333333,\"#9c179e\"],[0.4444444444444444,\"#bd3786\"],[0.5555555555555556,\"#d8576b\"],[0.6666666666666666,\"#ed7953\"],[0.7777777777777778,\"#fb9f3a\"],[0.8888888888888888,\"#fdca26\"],[1.0,\"#f0f921\"]],\"sequentialminus\":[[0.0,\"#0d0887\"],[0.1111111111111111,\"#46039f\"],[0.2222222222222222,\"#7201a8\"],[0.3333333333333333,\"#9c179e\"],[0.4444444444444444,\"#bd3786\"],[0.5555555555555556,\"#d8576b\"],[0.6666666666666666,\"#ed7953\"],[0.7777777777777778,\"#fb9f3a\"],[0.8888888888888888,\"#fdca26\"],[1.0,\"#f0f921\"]]},\"colorway\":[\"#636efa\",\"#EF553B\",\"#00cc96\",\"#ab63fa\",\"#FFA15A\",\"#19d3f3\",\"#FF6692\",\"#B6E880\",\"#FF97FF\",\"#FECB52\"],\"font\":{\"color\":\"#2a3f5f\"},\"geo\":{\"bgcolor\":\"white\",\"lakecolor\":\"white\",\"landcolor\":\"#E5ECF6\",\"showlakes\":true,\"showland\":true,\"subunitcolor\":\"white\"},\"hoverlabel\":{\"align\":\"left\"},\"hovermode\":\"closest\",\"mapbox\":{\"style\":\"light\"},\"paper_bgcolor\":\"white\",\"plot_bgcolor\":\"#E5ECF6\",\"polar\":{\"angularaxis\":{\"gridcolor\":\"white\",\"linecolor\":\"white\",\"ticks\":\"\"},\"bgcolor\":\"#E5ECF6\",\"radialaxis\":{\"gridcolor\":\"white\",\"linecolor\":\"white\",\"ticks\":\"\"}},\"scene\":{\"xaxis\":{\"backgroundcolor\":\"#E5ECF6\",\"gridcolor\":\"white\",\"gridwidth\":2,\"linecolor\":\"white\",\"showbackground\":true,\"ticks\":\"\",\"zerolinecolor\":\"white\"},\"yaxis\":{\"backgroundcolor\":\"#E5ECF6\",\"gridcolor\":\"white\",\"gridwidth\":2,\"linecolor\":\"white\",\"showbackground\":true,\"ticks\":\"\",\"zerolinecolor\":\"white\"},\"zaxis\":{\"backgroundcolor\":\"#E5ECF6\",\"gridcolor\":\"white\",\"gridwidth\":2,\"linecolor\":\"white\",\"showbackground\":true,\"ticks\":\"\",\"zerolinecolor\":\"white\"}},\"shapedefaults\":{\"line\":{\"color\":\"#2a3f5f\"}},\"ternary\":{\"aaxis\":{\"gridcolor\":\"white\",\"linecolor\":\"white\",\"ticks\":\"\"},\"baxis\":{\"gridcolor\":\"white\",\"linecolor\":\"white\",\"ticks\":\"\"},\"bgcolor\":\"#E5ECF6\",\"caxis\":{\"gridcolor\":\"white\",\"linecolor\":\"white\",\"ticks\":\"\"}},\"title\":{\"x\":0.05},\"xaxis\":{\"automargin\":true,\"gridcolor\":\"white\",\"linecolor\":\"white\",\"ticks\":\"\",\"title\":{\"standoff\":15},\"zerolinecolor\":\"white\",\"zerolinewidth\":2},\"yaxis\":{\"automargin\":true,\"gridcolor\":\"white\",\"linecolor\":\"white\",\"ticks\":\"\",\"title\":{\"standoff\":15},\"zerolinecolor\":\"white\",\"zerolinewidth\":2}}},\"xaxis\":{\"anchor\":\"y\",\"domain\":[0.0,1.0],\"title\":{\"text\":\"Date\"}},\"yaxis\":{\"anchor\":\"x\",\"domain\":[0.0,1.0],\"title\":{\"text\":\"Transactions\"}},\"legend\":{\"tracegroupgap\":0},\"title\":{\"text\":\"Transactions by date\"}},                        {\"responsive\": true}                    ).then(function(){\n",
              "                            \n",
              "var gd = document.getElementById('180bc0f3-b7b0-4518-91c9-d353b74ce411');\n",
              "var x = new MutationObserver(function (mutations, observer) {{\n",
              "        var display = window.getComputedStyle(gd).display;\n",
              "        if (!display || display === 'none') {{\n",
              "            console.log([gd, 'removed!']);\n",
              "            Plotly.purge(gd);\n",
              "            observer.disconnect();\n",
              "        }}\n",
              "}});\n",
              "\n",
              "// Listen for the removal of the full notebook cells\n",
              "var notebookContainer = gd.closest('#notebook-container');\n",
              "if (notebookContainer) {{\n",
              "    x.observe(notebookContainer, {childList: true});\n",
              "}}\n",
              "\n",
              "// Listen for the clearing of the current output cell\n",
              "var outputEl = gd.closest('.output');\n",
              "if (outputEl) {{\n",
              "    x.observe(outputEl, {childList: true});\n",
              "}}\n",
              "\n",
              "                        })                };                            </script>        </div>\n",
              "</body>\n",
              "</html>"
            ]
          },
          "metadata": {}
        }
      ]
    },
    {
      "cell_type": "code",
      "source": [
        "# Looking at week of \"Outlier\" special day (Nov 29, 2019)\n",
        "df[(df['Date'] > '2019-11-25') & (df['Date'] <= '2019-12-02')]"
      ],
      "metadata": {
        "colab": {
          "base_uri": "https://localhost:8080/",
          "height": 269
        },
        "id": "2_3ZWdSIPm4s",
        "outputId": "f17bd8ad-1456-43d8-db66-868d2a47e856"
      },
      "execution_count": null,
      "outputs": [
        {
          "output_type": "execute_result",
          "data": {
            "text/plain": [
              "          Date       Special day Clearance promo_name     Brands  Transactions\n",
              "660 2019-11-26        No Special        No  Non_Promo  No Brands         82858\n",
              "661 2019-11-27  Thanks giving -1        No  Non_Promo  No Brands        111258\n",
              "662 2019-11-28     Thanks giving        No  Non_Promo  No Brands          1754\n",
              "663 2019-11-29           Outlier        No  Non_Promo  No Brands        608225\n",
              "664 2019-11-30           OUTLIER        No  Non_Promo  No Brands        256271\n",
              "665 2019-12-01        No Special        No  Non_Promo  No Brands        123178\n",
              "666 2019-12-02        No Special        No  Non_Promo  No Brands         80848"
            ],
            "text/html": [
              "\n",
              "  <div id=\"df-6e2220cf-dc10-421e-959b-843a76e65a67\">\n",
              "    <div class=\"colab-df-container\">\n",
              "      <div>\n",
              "<style scoped>\n",
              "    .dataframe tbody tr th:only-of-type {\n",
              "        vertical-align: middle;\n",
              "    }\n",
              "\n",
              "    .dataframe tbody tr th {\n",
              "        vertical-align: top;\n",
              "    }\n",
              "\n",
              "    .dataframe thead th {\n",
              "        text-align: right;\n",
              "    }\n",
              "</style>\n",
              "<table border=\"1\" class=\"dataframe\">\n",
              "  <thead>\n",
              "    <tr style=\"text-align: right;\">\n",
              "      <th></th>\n",
              "      <th>Date</th>\n",
              "      <th>Special day</th>\n",
              "      <th>Clearance</th>\n",
              "      <th>promo_name</th>\n",
              "      <th>Brands</th>\n",
              "      <th>Transactions</th>\n",
              "    </tr>\n",
              "  </thead>\n",
              "  <tbody>\n",
              "    <tr>\n",
              "      <th>660</th>\n",
              "      <td>2019-11-26</td>\n",
              "      <td>No Special</td>\n",
              "      <td>No</td>\n",
              "      <td>Non_Promo</td>\n",
              "      <td>No Brands</td>\n",
              "      <td>82858</td>\n",
              "    </tr>\n",
              "    <tr>\n",
              "      <th>661</th>\n",
              "      <td>2019-11-27</td>\n",
              "      <td>Thanks giving -1</td>\n",
              "      <td>No</td>\n",
              "      <td>Non_Promo</td>\n",
              "      <td>No Brands</td>\n",
              "      <td>111258</td>\n",
              "    </tr>\n",
              "    <tr>\n",
              "      <th>662</th>\n",
              "      <td>2019-11-28</td>\n",
              "      <td>Thanks giving</td>\n",
              "      <td>No</td>\n",
              "      <td>Non_Promo</td>\n",
              "      <td>No Brands</td>\n",
              "      <td>1754</td>\n",
              "    </tr>\n",
              "    <tr>\n",
              "      <th>663</th>\n",
              "      <td>2019-11-29</td>\n",
              "      <td>Outlier</td>\n",
              "      <td>No</td>\n",
              "      <td>Non_Promo</td>\n",
              "      <td>No Brands</td>\n",
              "      <td>608225</td>\n",
              "    </tr>\n",
              "    <tr>\n",
              "      <th>664</th>\n",
              "      <td>2019-11-30</td>\n",
              "      <td>OUTLIER</td>\n",
              "      <td>No</td>\n",
              "      <td>Non_Promo</td>\n",
              "      <td>No Brands</td>\n",
              "      <td>256271</td>\n",
              "    </tr>\n",
              "    <tr>\n",
              "      <th>665</th>\n",
              "      <td>2019-12-01</td>\n",
              "      <td>No Special</td>\n",
              "      <td>No</td>\n",
              "      <td>Non_Promo</td>\n",
              "      <td>No Brands</td>\n",
              "      <td>123178</td>\n",
              "    </tr>\n",
              "    <tr>\n",
              "      <th>666</th>\n",
              "      <td>2019-12-02</td>\n",
              "      <td>No Special</td>\n",
              "      <td>No</td>\n",
              "      <td>Non_Promo</td>\n",
              "      <td>No Brands</td>\n",
              "      <td>80848</td>\n",
              "    </tr>\n",
              "  </tbody>\n",
              "</table>\n",
              "</div>\n",
              "      <button class=\"colab-df-convert\" onclick=\"convertToInteractive('df-6e2220cf-dc10-421e-959b-843a76e65a67')\"\n",
              "              title=\"Convert this dataframe to an interactive table.\"\n",
              "              style=\"display:none;\">\n",
              "        \n",
              "  <svg xmlns=\"http://www.w3.org/2000/svg\" height=\"24px\"viewBox=\"0 0 24 24\"\n",
              "       width=\"24px\">\n",
              "    <path d=\"M0 0h24v24H0V0z\" fill=\"none\"/>\n",
              "    <path d=\"M18.56 5.44l.94 2.06.94-2.06 2.06-.94-2.06-.94-.94-2.06-.94 2.06-2.06.94zm-11 1L8.5 8.5l.94-2.06 2.06-.94-2.06-.94L8.5 2.5l-.94 2.06-2.06.94zm10 10l.94 2.06.94-2.06 2.06-.94-2.06-.94-.94-2.06-.94 2.06-2.06.94z\"/><path d=\"M17.41 7.96l-1.37-1.37c-.4-.4-.92-.59-1.43-.59-.52 0-1.04.2-1.43.59L10.3 9.45l-7.72 7.72c-.78.78-.78 2.05 0 2.83L4 21.41c.39.39.9.59 1.41.59.51 0 1.02-.2 1.41-.59l7.78-7.78 2.81-2.81c.8-.78.8-2.07 0-2.86zM5.41 20L4 18.59l7.72-7.72 1.47 1.35L5.41 20z\"/>\n",
              "  </svg>\n",
              "      </button>\n",
              "      \n",
              "  <style>\n",
              "    .colab-df-container {\n",
              "      display:flex;\n",
              "      flex-wrap:wrap;\n",
              "      gap: 12px;\n",
              "    }\n",
              "\n",
              "    .colab-df-convert {\n",
              "      background-color: #E8F0FE;\n",
              "      border: none;\n",
              "      border-radius: 50%;\n",
              "      cursor: pointer;\n",
              "      display: none;\n",
              "      fill: #1967D2;\n",
              "      height: 32px;\n",
              "      padding: 0 0 0 0;\n",
              "      width: 32px;\n",
              "    }\n",
              "\n",
              "    .colab-df-convert:hover {\n",
              "      background-color: #E2EBFA;\n",
              "      box-shadow: 0px 1px 2px rgba(60, 64, 67, 0.3), 0px 1px 3px 1px rgba(60, 64, 67, 0.15);\n",
              "      fill: #174EA6;\n",
              "    }\n",
              "\n",
              "    [theme=dark] .colab-df-convert {\n",
              "      background-color: #3B4455;\n",
              "      fill: #D2E3FC;\n",
              "    }\n",
              "\n",
              "    [theme=dark] .colab-df-convert:hover {\n",
              "      background-color: #434B5C;\n",
              "      box-shadow: 0px 1px 3px 1px rgba(0, 0, 0, 0.15);\n",
              "      filter: drop-shadow(0px 1px 2px rgba(0, 0, 0, 0.3));\n",
              "      fill: #FFFFFF;\n",
              "    }\n",
              "  </style>\n",
              "\n",
              "      <script>\n",
              "        const buttonEl =\n",
              "          document.querySelector('#df-6e2220cf-dc10-421e-959b-843a76e65a67 button.colab-df-convert');\n",
              "        buttonEl.style.display =\n",
              "          google.colab.kernel.accessAllowed ? 'block' : 'none';\n",
              "\n",
              "        async function convertToInteractive(key) {\n",
              "          const element = document.querySelector('#df-6e2220cf-dc10-421e-959b-843a76e65a67');\n",
              "          const dataTable =\n",
              "            await google.colab.kernel.invokeFunction('convertToInteractive',\n",
              "                                                     [key], {});\n",
              "          if (!dataTable) return;\n",
              "\n",
              "          const docLinkHtml = 'Like what you see? Visit the ' +\n",
              "            '<a target=\"_blank\" href=https://colab.research.google.com/notebooks/data_table.ipynb>data table notebook</a>'\n",
              "            + ' to learn more about interactive tables.';\n",
              "          element.innerHTML = '';\n",
              "          dataTable['output_type'] = 'display_data';\n",
              "          await google.colab.output.renderOutput(dataTable, element);\n",
              "          const docLink = document.createElement('div');\n",
              "          docLink.innerHTML = docLinkHtml;\n",
              "          element.appendChild(docLink);\n",
              "        }\n",
              "      </script>\n",
              "    </div>\n",
              "  </div>\n",
              "  "
            ]
          },
          "metadata": {},
          "execution_count": 17
        }
      ]
    },
    {
      "cell_type": "code",
      "source": [
        "# Replacing outlier special day on Nov 29, 2019 as thanks giving + 1\n",
        "df.loc[df['Date'] == '2019-11-29', 'Special day'] = 'thanks giving + 1'"
      ],
      "metadata": {
        "id": "DKRWxUruPzQK"
      },
      "execution_count": null,
      "outputs": []
    },
    {
      "cell_type": "code",
      "source": [
        "# Average transaction by each month\n",
        "avg_month_txn = pd.DataFrame(df.groupby(df['Date'].dt.strftime('%B'))['Transactions'].mean()).reset_index()\n",
        "avg_month_txn.rename(columns={'Date': 'Month'}, inplace=True)\n",
        "avg_month_txn.sort_values(by='Transactions', ascending=False, inplace=True)\n",
        "\n",
        "fig = px.bar(avg_month_txn, x='Transactions', y='Month', color='Month', title='Average transactions by month')\n",
        "fig.show()"
      ],
      "metadata": {
        "colab": {
          "base_uri": "https://localhost:8080/",
          "height": 542
        },
        "id": "iKWGgyinP27V",
        "outputId": "92377178-f09b-4d27-a14b-35694b84acb1"
      },
      "execution_count": null,
      "outputs": [
        {
          "output_type": "display_data",
          "data": {
            "text/html": [
              "<html>\n",
              "<head><meta charset=\"utf-8\" /></head>\n",
              "<body>\n",
              "    <div>            <script src=\"https://cdnjs.cloudflare.com/ajax/libs/mathjax/2.7.5/MathJax.js?config=TeX-AMS-MML_SVG\"></script><script type=\"text/javascript\">if (window.MathJax) {MathJax.Hub.Config({SVG: {font: \"STIX-Web\"}});}</script>                <script type=\"text/javascript\">window.PlotlyConfig = {MathJaxConfig: 'local'};</script>\n",
              "        <script src=\"https://cdn.plot.ly/plotly-2.8.3.min.js\"></script>                <div id=\"1262477f-26b4-4c6d-a8d9-cf7e0f506ac9\" class=\"plotly-graph-div\" style=\"height:525px; width:100%;\"></div>            <script type=\"text/javascript\">                                    window.PLOTLYENV=window.PLOTLYENV || {};                                    if (document.getElementById(\"1262477f-26b4-4c6d-a8d9-cf7e0f506ac9\")) {                    Plotly.newPlot(                        \"1262477f-26b4-4c6d-a8d9-cf7e0f506ac9\",                        [{\"alignmentgroup\":\"True\",\"hovertemplate\":\"Month=%{y}<br>Transactions=%{x}<extra></extra>\",\"legendgroup\":\"December\",\"marker\":{\"color\":\"#636efa\",\"pattern\":{\"shape\":\"\"}},\"name\":\"December\",\"offsetgroup\":\"December\",\"orientation\":\"h\",\"showlegend\":true,\"textposition\":\"auto\",\"x\":[194081.40322580645],\"xaxis\":\"x\",\"y\":[\"December\"],\"yaxis\":\"y\",\"type\":\"bar\"},{\"alignmentgroup\":\"True\",\"hovertemplate\":\"Month=%{y}<br>Transactions=%{x}<extra></extra>\",\"legendgroup\":\"November\",\"marker\":{\"color\":\"#EF553B\",\"pattern\":{\"shape\":\"\"}},\"name\":\"November\",\"offsetgroup\":\"November\",\"orientation\":\"h\",\"showlegend\":true,\"textposition\":\"auto\",\"x\":[145947.83333333334],\"xaxis\":\"x\",\"y\":[\"November\"],\"yaxis\":\"y\",\"type\":\"bar\"},{\"alignmentgroup\":\"True\",\"hovertemplate\":\"Month=%{y}<br>Transactions=%{x}<extra></extra>\",\"legendgroup\":\"February\",\"marker\":{\"color\":\"#00cc96\",\"pattern\":{\"shape\":\"\"}},\"name\":\"February\",\"offsetgroup\":\"February\",\"orientation\":\"h\",\"showlegend\":true,\"textposition\":\"auto\",\"x\":[124537.54716981133],\"xaxis\":\"x\",\"y\":[\"February\"],\"yaxis\":\"y\",\"type\":\"bar\"},{\"alignmentgroup\":\"True\",\"hovertemplate\":\"Month=%{y}<br>Transactions=%{x}<extra></extra>\",\"legendgroup\":\"June\",\"marker\":{\"color\":\"#ab63fa\",\"pattern\":{\"shape\":\"\"}},\"name\":\"June\",\"offsetgroup\":\"June\",\"orientation\":\"h\",\"showlegend\":true,\"textposition\":\"auto\",\"x\":[119780.15],\"xaxis\":\"x\",\"y\":[\"June\"],\"yaxis\":\"y\",\"type\":\"bar\"},{\"alignmentgroup\":\"True\",\"hovertemplate\":\"Month=%{y}<br>Transactions=%{x}<extra></extra>\",\"legendgroup\":\"March\",\"marker\":{\"color\":\"#FFA15A\",\"pattern\":{\"shape\":\"\"}},\"name\":\"March\",\"offsetgroup\":\"March\",\"orientation\":\"h\",\"showlegend\":true,\"textposition\":\"auto\",\"x\":[119209.59677419355],\"xaxis\":\"x\",\"y\":[\"March\"],\"yaxis\":\"y\",\"type\":\"bar\"},{\"alignmentgroup\":\"True\",\"hovertemplate\":\"Month=%{y}<br>Transactions=%{x}<extra></extra>\",\"legendgroup\":\"August\",\"marker\":{\"color\":\"#19d3f3\",\"pattern\":{\"shape\":\"\"}},\"name\":\"August\",\"offsetgroup\":\"August\",\"orientation\":\"h\",\"showlegend\":true,\"textposition\":\"auto\",\"x\":[118510.35483870968],\"xaxis\":\"x\",\"y\":[\"August\"],\"yaxis\":\"y\",\"type\":\"bar\"},{\"alignmentgroup\":\"True\",\"hovertemplate\":\"Month=%{y}<br>Transactions=%{x}<extra></extra>\",\"legendgroup\":\"May\",\"marker\":{\"color\":\"#FF6692\",\"pattern\":{\"shape\":\"\"}},\"name\":\"May\",\"offsetgroup\":\"May\",\"orientation\":\"h\",\"showlegend\":true,\"textposition\":\"auto\",\"x\":[114433.56451612903],\"xaxis\":\"x\",\"y\":[\"May\"],\"yaxis\":\"y\",\"type\":\"bar\"},{\"alignmentgroup\":\"True\",\"hovertemplate\":\"Month=%{y}<br>Transactions=%{x}<extra></extra>\",\"legendgroup\":\"July\",\"marker\":{\"color\":\"#B6E880\",\"pattern\":{\"shape\":\"\"}},\"name\":\"July\",\"offsetgroup\":\"July\",\"orientation\":\"h\",\"showlegend\":true,\"textposition\":\"auto\",\"x\":[114171.29032258065],\"xaxis\":\"x\",\"y\":[\"July\"],\"yaxis\":\"y\",\"type\":\"bar\"},{\"alignmentgroup\":\"True\",\"hovertemplate\":\"Month=%{y}<br>Transactions=%{x}<extra></extra>\",\"legendgroup\":\"September\",\"marker\":{\"color\":\"#FF97FF\",\"pattern\":{\"shape\":\"\"}},\"name\":\"September\",\"offsetgroup\":\"September\",\"orientation\":\"h\",\"showlegend\":true,\"textposition\":\"auto\",\"x\":[109561.91666666667],\"xaxis\":\"x\",\"y\":[\"September\"],\"yaxis\":\"y\",\"type\":\"bar\"},{\"alignmentgroup\":\"True\",\"hovertemplate\":\"Month=%{y}<br>Transactions=%{x}<extra></extra>\",\"legendgroup\":\"October\",\"marker\":{\"color\":\"#FECB52\",\"pattern\":{\"shape\":\"\"}},\"name\":\"October\",\"offsetgroup\":\"October\",\"orientation\":\"h\",\"showlegend\":true,\"textposition\":\"auto\",\"x\":[107673.6129032258],\"xaxis\":\"x\",\"y\":[\"October\"],\"yaxis\":\"y\",\"type\":\"bar\"},{\"alignmentgroup\":\"True\",\"hovertemplate\":\"Month=%{y}<br>Transactions=%{x}<extra></extra>\",\"legendgroup\":\"January\",\"marker\":{\"color\":\"#636efa\",\"pattern\":{\"shape\":\"\"}},\"name\":\"January\",\"offsetgroup\":\"January\",\"orientation\":\"h\",\"showlegend\":true,\"textposition\":\"auto\",\"x\":[98973.33870967742],\"xaxis\":\"x\",\"y\":[\"January\"],\"yaxis\":\"y\",\"type\":\"bar\"},{\"alignmentgroup\":\"True\",\"hovertemplate\":\"Month=%{y}<br>Transactions=%{x}<extra></extra>\",\"legendgroup\":\"April\",\"marker\":{\"color\":\"#EF553B\",\"pattern\":{\"shape\":\"\"}},\"name\":\"April\",\"offsetgroup\":\"April\",\"orientation\":\"h\",\"showlegend\":true,\"textposition\":\"auto\",\"x\":[95508.06666666667],\"xaxis\":\"x\",\"y\":[\"April\"],\"yaxis\":\"y\",\"type\":\"bar\"}],                        {\"template\":{\"data\":{\"bar\":[{\"error_x\":{\"color\":\"#2a3f5f\"},\"error_y\":{\"color\":\"#2a3f5f\"},\"marker\":{\"line\":{\"color\":\"#E5ECF6\",\"width\":0.5},\"pattern\":{\"fillmode\":\"overlay\",\"size\":10,\"solidity\":0.2}},\"type\":\"bar\"}],\"barpolar\":[{\"marker\":{\"line\":{\"color\":\"#E5ECF6\",\"width\":0.5},\"pattern\":{\"fillmode\":\"overlay\",\"size\":10,\"solidity\":0.2}},\"type\":\"barpolar\"}],\"carpet\":[{\"aaxis\":{\"endlinecolor\":\"#2a3f5f\",\"gridcolor\":\"white\",\"linecolor\":\"white\",\"minorgridcolor\":\"white\",\"startlinecolor\":\"#2a3f5f\"},\"baxis\":{\"endlinecolor\":\"#2a3f5f\",\"gridcolor\":\"white\",\"linecolor\":\"white\",\"minorgridcolor\":\"white\",\"startlinecolor\":\"#2a3f5f\"},\"type\":\"carpet\"}],\"choropleth\":[{\"colorbar\":{\"outlinewidth\":0,\"ticks\":\"\"},\"type\":\"choropleth\"}],\"contour\":[{\"colorbar\":{\"outlinewidth\":0,\"ticks\":\"\"},\"colorscale\":[[0.0,\"#0d0887\"],[0.1111111111111111,\"#46039f\"],[0.2222222222222222,\"#7201a8\"],[0.3333333333333333,\"#9c179e\"],[0.4444444444444444,\"#bd3786\"],[0.5555555555555556,\"#d8576b\"],[0.6666666666666666,\"#ed7953\"],[0.7777777777777778,\"#fb9f3a\"],[0.8888888888888888,\"#fdca26\"],[1.0,\"#f0f921\"]],\"type\":\"contour\"}],\"contourcarpet\":[{\"colorbar\":{\"outlinewidth\":0,\"ticks\":\"\"},\"type\":\"contourcarpet\"}],\"heatmap\":[{\"colorbar\":{\"outlinewidth\":0,\"ticks\":\"\"},\"colorscale\":[[0.0,\"#0d0887\"],[0.1111111111111111,\"#46039f\"],[0.2222222222222222,\"#7201a8\"],[0.3333333333333333,\"#9c179e\"],[0.4444444444444444,\"#bd3786\"],[0.5555555555555556,\"#d8576b\"],[0.6666666666666666,\"#ed7953\"],[0.7777777777777778,\"#fb9f3a\"],[0.8888888888888888,\"#fdca26\"],[1.0,\"#f0f921\"]],\"type\":\"heatmap\"}],\"heatmapgl\":[{\"colorbar\":{\"outlinewidth\":0,\"ticks\":\"\"},\"colorscale\":[[0.0,\"#0d0887\"],[0.1111111111111111,\"#46039f\"],[0.2222222222222222,\"#7201a8\"],[0.3333333333333333,\"#9c179e\"],[0.4444444444444444,\"#bd3786\"],[0.5555555555555556,\"#d8576b\"],[0.6666666666666666,\"#ed7953\"],[0.7777777777777778,\"#fb9f3a\"],[0.8888888888888888,\"#fdca26\"],[1.0,\"#f0f921\"]],\"type\":\"heatmapgl\"}],\"histogram\":[{\"marker\":{\"pattern\":{\"fillmode\":\"overlay\",\"size\":10,\"solidity\":0.2}},\"type\":\"histogram\"}],\"histogram2d\":[{\"colorbar\":{\"outlinewidth\":0,\"ticks\":\"\"},\"colorscale\":[[0.0,\"#0d0887\"],[0.1111111111111111,\"#46039f\"],[0.2222222222222222,\"#7201a8\"],[0.3333333333333333,\"#9c179e\"],[0.4444444444444444,\"#bd3786\"],[0.5555555555555556,\"#d8576b\"],[0.6666666666666666,\"#ed7953\"],[0.7777777777777778,\"#fb9f3a\"],[0.8888888888888888,\"#fdca26\"],[1.0,\"#f0f921\"]],\"type\":\"histogram2d\"}],\"histogram2dcontour\":[{\"colorbar\":{\"outlinewidth\":0,\"ticks\":\"\"},\"colorscale\":[[0.0,\"#0d0887\"],[0.1111111111111111,\"#46039f\"],[0.2222222222222222,\"#7201a8\"],[0.3333333333333333,\"#9c179e\"],[0.4444444444444444,\"#bd3786\"],[0.5555555555555556,\"#d8576b\"],[0.6666666666666666,\"#ed7953\"],[0.7777777777777778,\"#fb9f3a\"],[0.8888888888888888,\"#fdca26\"],[1.0,\"#f0f921\"]],\"type\":\"histogram2dcontour\"}],\"mesh3d\":[{\"colorbar\":{\"outlinewidth\":0,\"ticks\":\"\"},\"type\":\"mesh3d\"}],\"parcoords\":[{\"line\":{\"colorbar\":{\"outlinewidth\":0,\"ticks\":\"\"}},\"type\":\"parcoords\"}],\"pie\":[{\"automargin\":true,\"type\":\"pie\"}],\"scatter\":[{\"marker\":{\"colorbar\":{\"outlinewidth\":0,\"ticks\":\"\"}},\"type\":\"scatter\"}],\"scatter3d\":[{\"line\":{\"colorbar\":{\"outlinewidth\":0,\"ticks\":\"\"}},\"marker\":{\"colorbar\":{\"outlinewidth\":0,\"ticks\":\"\"}},\"type\":\"scatter3d\"}],\"scattercarpet\":[{\"marker\":{\"colorbar\":{\"outlinewidth\":0,\"ticks\":\"\"}},\"type\":\"scattercarpet\"}],\"scattergeo\":[{\"marker\":{\"colorbar\":{\"outlinewidth\":0,\"ticks\":\"\"}},\"type\":\"scattergeo\"}],\"scattergl\":[{\"marker\":{\"colorbar\":{\"outlinewidth\":0,\"ticks\":\"\"}},\"type\":\"scattergl\"}],\"scattermapbox\":[{\"marker\":{\"colorbar\":{\"outlinewidth\":0,\"ticks\":\"\"}},\"type\":\"scattermapbox\"}],\"scatterpolar\":[{\"marker\":{\"colorbar\":{\"outlinewidth\":0,\"ticks\":\"\"}},\"type\":\"scatterpolar\"}],\"scatterpolargl\":[{\"marker\":{\"colorbar\":{\"outlinewidth\":0,\"ticks\":\"\"}},\"type\":\"scatterpolargl\"}],\"scatterternary\":[{\"marker\":{\"colorbar\":{\"outlinewidth\":0,\"ticks\":\"\"}},\"type\":\"scatterternary\"}],\"surface\":[{\"colorbar\":{\"outlinewidth\":0,\"ticks\":\"\"},\"colorscale\":[[0.0,\"#0d0887\"],[0.1111111111111111,\"#46039f\"],[0.2222222222222222,\"#7201a8\"],[0.3333333333333333,\"#9c179e\"],[0.4444444444444444,\"#bd3786\"],[0.5555555555555556,\"#d8576b\"],[0.6666666666666666,\"#ed7953\"],[0.7777777777777778,\"#fb9f3a\"],[0.8888888888888888,\"#fdca26\"],[1.0,\"#f0f921\"]],\"type\":\"surface\"}],\"table\":[{\"cells\":{\"fill\":{\"color\":\"#EBF0F8\"},\"line\":{\"color\":\"white\"}},\"header\":{\"fill\":{\"color\":\"#C8D4E3\"},\"line\":{\"color\":\"white\"}},\"type\":\"table\"}]},\"layout\":{\"annotationdefaults\":{\"arrowcolor\":\"#2a3f5f\",\"arrowhead\":0,\"arrowwidth\":1},\"autotypenumbers\":\"strict\",\"coloraxis\":{\"colorbar\":{\"outlinewidth\":0,\"ticks\":\"\"}},\"colorscale\":{\"diverging\":[[0,\"#8e0152\"],[0.1,\"#c51b7d\"],[0.2,\"#de77ae\"],[0.3,\"#f1b6da\"],[0.4,\"#fde0ef\"],[0.5,\"#f7f7f7\"],[0.6,\"#e6f5d0\"],[0.7,\"#b8e186\"],[0.8,\"#7fbc41\"],[0.9,\"#4d9221\"],[1,\"#276419\"]],\"sequential\":[[0.0,\"#0d0887\"],[0.1111111111111111,\"#46039f\"],[0.2222222222222222,\"#7201a8\"],[0.3333333333333333,\"#9c179e\"],[0.4444444444444444,\"#bd3786\"],[0.5555555555555556,\"#d8576b\"],[0.6666666666666666,\"#ed7953\"],[0.7777777777777778,\"#fb9f3a\"],[0.8888888888888888,\"#fdca26\"],[1.0,\"#f0f921\"]],\"sequentialminus\":[[0.0,\"#0d0887\"],[0.1111111111111111,\"#46039f\"],[0.2222222222222222,\"#7201a8\"],[0.3333333333333333,\"#9c179e\"],[0.4444444444444444,\"#bd3786\"],[0.5555555555555556,\"#d8576b\"],[0.6666666666666666,\"#ed7953\"],[0.7777777777777778,\"#fb9f3a\"],[0.8888888888888888,\"#fdca26\"],[1.0,\"#f0f921\"]]},\"colorway\":[\"#636efa\",\"#EF553B\",\"#00cc96\",\"#ab63fa\",\"#FFA15A\",\"#19d3f3\",\"#FF6692\",\"#B6E880\",\"#FF97FF\",\"#FECB52\"],\"font\":{\"color\":\"#2a3f5f\"},\"geo\":{\"bgcolor\":\"white\",\"lakecolor\":\"white\",\"landcolor\":\"#E5ECF6\",\"showlakes\":true,\"showland\":true,\"subunitcolor\":\"white\"},\"hoverlabel\":{\"align\":\"left\"},\"hovermode\":\"closest\",\"mapbox\":{\"style\":\"light\"},\"paper_bgcolor\":\"white\",\"plot_bgcolor\":\"#E5ECF6\",\"polar\":{\"angularaxis\":{\"gridcolor\":\"white\",\"linecolor\":\"white\",\"ticks\":\"\"},\"bgcolor\":\"#E5ECF6\",\"radialaxis\":{\"gridcolor\":\"white\",\"linecolor\":\"white\",\"ticks\":\"\"}},\"scene\":{\"xaxis\":{\"backgroundcolor\":\"#E5ECF6\",\"gridcolor\":\"white\",\"gridwidth\":2,\"linecolor\":\"white\",\"showbackground\":true,\"ticks\":\"\",\"zerolinecolor\":\"white\"},\"yaxis\":{\"backgroundcolor\":\"#E5ECF6\",\"gridcolor\":\"white\",\"gridwidth\":2,\"linecolor\":\"white\",\"showbackground\":true,\"ticks\":\"\",\"zerolinecolor\":\"white\"},\"zaxis\":{\"backgroundcolor\":\"#E5ECF6\",\"gridcolor\":\"white\",\"gridwidth\":2,\"linecolor\":\"white\",\"showbackground\":true,\"ticks\":\"\",\"zerolinecolor\":\"white\"}},\"shapedefaults\":{\"line\":{\"color\":\"#2a3f5f\"}},\"ternary\":{\"aaxis\":{\"gridcolor\":\"white\",\"linecolor\":\"white\",\"ticks\":\"\"},\"baxis\":{\"gridcolor\":\"white\",\"linecolor\":\"white\",\"ticks\":\"\"},\"bgcolor\":\"#E5ECF6\",\"caxis\":{\"gridcolor\":\"white\",\"linecolor\":\"white\",\"ticks\":\"\"}},\"title\":{\"x\":0.05},\"xaxis\":{\"automargin\":true,\"gridcolor\":\"white\",\"linecolor\":\"white\",\"ticks\":\"\",\"title\":{\"standoff\":15},\"zerolinecolor\":\"white\",\"zerolinewidth\":2},\"yaxis\":{\"automargin\":true,\"gridcolor\":\"white\",\"linecolor\":\"white\",\"ticks\":\"\",\"title\":{\"standoff\":15},\"zerolinecolor\":\"white\",\"zerolinewidth\":2}}},\"xaxis\":{\"anchor\":\"y\",\"domain\":[0.0,1.0],\"title\":{\"text\":\"Transactions\"}},\"yaxis\":{\"anchor\":\"x\",\"domain\":[0.0,1.0],\"title\":{\"text\":\"Month\"},\"categoryorder\":\"array\",\"categoryarray\":[\"April\",\"January\",\"October\",\"September\",\"July\",\"May\",\"August\",\"March\",\"June\",\"February\",\"November\",\"December\"]},\"legend\":{\"title\":{\"text\":\"Month\"},\"tracegroupgap\":0},\"title\":{\"text\":\"Average transactions by month\"},\"barmode\":\"relative\"},                        {\"responsive\": true}                    ).then(function(){\n",
              "                            \n",
              "var gd = document.getElementById('1262477f-26b4-4c6d-a8d9-cf7e0f506ac9');\n",
              "var x = new MutationObserver(function (mutations, observer) {{\n",
              "        var display = window.getComputedStyle(gd).display;\n",
              "        if (!display || display === 'none') {{\n",
              "            console.log([gd, 'removed!']);\n",
              "            Plotly.purge(gd);\n",
              "            observer.disconnect();\n",
              "        }}\n",
              "}});\n",
              "\n",
              "// Listen for the removal of the full notebook cells\n",
              "var notebookContainer = gd.closest('#notebook-container');\n",
              "if (notebookContainer) {{\n",
              "    x.observe(notebookContainer, {childList: true});\n",
              "}}\n",
              "\n",
              "// Listen for the clearing of the current output cell\n",
              "var outputEl = gd.closest('.output');\n",
              "if (outputEl) {{\n",
              "    x.observe(outputEl, {childList: true});\n",
              "}}\n",
              "\n",
              "                        })                };                            </script>        </div>\n",
              "</body>\n",
              "</html>"
            ]
          },
          "metadata": {}
        }
      ]
    },
    {
      "cell_type": "markdown",
      "source": [
        "Silakan diisi kesimpulan di projek kamu + jobsheet ya! </br>\n",
        "\n",
        "\n"
      ],
      "metadata": {
        "id": "LRsF00itRqAq"
      }
    }
  ]
}